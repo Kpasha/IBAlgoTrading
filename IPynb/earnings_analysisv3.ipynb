{
 "metadata": {
  "name": "earnings_analysisv3"
 }, 
 "nbformat": 2, 
 "worksheets": [
  {
   "cells": [
    {
     "cell_type": "code", 
     "collapsed": true, 
     "input": [
      "import sys", 
      "sys.path.append('/home/mchan/git/Artemis/brotchie-pytrth-381894a/trth/')", 
      "sys.path.append('/home/mchan/git/Artemis/util/')", 
      "import dbutil", 
      "import re", 
      "import pandas", 
      "import pandas.io.sql", 
      "import matplotlib.pyplot as plt", 
      "import datetime", 
      "from pandas.tseries.offsets import *", 
      "import random"
     ], 
     "language": "python", 
     "outputs": [], 
     "prompt_number": 1
    }, 
    {
     "cell_type": "code", 
     "collapsed": false, 
     "input": [
      "db = dbutil.db(h='127.0.0.1', schema='mchan')", 
      "db.query(\"show tables;\")"
     ], 
     "language": "python", 
     "outputs": [
      {
       "output_type": "pyout", 
       "prompt_number": 70, 
       "text": [
        "[['consensus_quant'],", 
        " ['consensus_quant_backup'],", 
        " ['earnings'],", 
        " ['earnings_clean'],", 
        " ['earnings_clean_pt2'],", 
        " ['earnings_test'],", 
        " ['eq_daily'],", 
        " ['flyonthewall'],", 
        " ['flyonthewall2'],", 
        " ['mapping'],", 
        " ['mapping2'],", 
        " ['pricing1'],", 
        " ['pricing1Min'],", 
        " ['pricing1Sec'],", 
        " ['pricing1Sec_pt2'],", 
        " ['pricing_test'],", 
        " ['research_mapping_ds2'],", 
        " ['security_price'],", 
        " ['s_daily']]"
       ]
      }
     ], 
     "prompt_number": 70
    }, 
    {
     "cell_type": "code", 
     "collapsed": true, 
     "input": [
      "PosEarnings = db.query(\"\"\"select e.*, q.*, m.name, d.*, s.market_cap_usd_mm from mchan.earnings_clean e", 
      "                          inner join mchan.consensus_quant q", 
      "                          on e.id = q.id", 
      "                          inner join mchan.mapping m", 
      "                          on m.ticker = e.ticker", 
      "                          inner join mchan.security_price s", 
      "                          on s.security_id = m.security_id", 
      "                          inner join mchan.s_daily d", 
      "                          on m.security_id = d.security_id", 
      "                          and date(e.release_date) = d.as_of_date", 
      "                          where q.outperform > 0.01", 
      "                          and e.headline like '%see%'", 
      "                          and e.headline not like '%adjusted%';\"\"\")"
     ], 
     "language": "python", 
     "outputs": [], 
     "prompt_number": 36
    }, 
    {
     "cell_type": "code", 
     "collapsed": true, 
     "input": [
      "PosEarnings = db.query(\"\"\"select e.*, q.*, m.name, d.*, s.market_cap_usd_mm from mchan.earnings_clean e", 
      "                          inner join mchan.consensus_quant q", 
      "                          on e.id = q.id", 
      "                          inner join mchan.mapping m", 
      "                          on m.ticker = e.ticker", 
      "                          inner join mchan.security_price s", 
      "                          on s.security_id = m.security_id", 
      "                          inner join mchan.s_daily d", 
      "                          on m.security_id = d.security_id", 
      "                          and date(e.release_date) = d.as_of_date", 
      "                          where q.outperform > 0.03", 
      "                          and q.outperform < 2", 
      "                          and e.headline like '%see%'", 
      "                          and e.headline not like '%adjusted%'", 
      "                          and e.headline not like '%c)%'", 
      "                          and s.market_cap_usd_mm < 5000", 
      "                          and s.market_cap_usd_mm > 500", 
      "                          and d.eq_region_rank > 10;\"\"\")"
     ], 
     "language": "python", 
     "outputs": [], 
     "prompt_number": 77
    }, 
    {
     "cell_type": "code", 
     "collapsed": false, 
     "input": [
      "PosEarnings2 = PosEarnings", 
      "len(PosEarnings)"
     ], 
     "language": "python", 
     "outputs": [
      {
       "output_type": "pyout", 
       "prompt_number": 79, 
       "text": [
        "46"
       ]
      }
     ], 
     "prompt_number": 79
    }, 
    {
     "cell_type": "code", 
     "collapsed": true, 
     "input": [
      "PosEarnings2 = []", 
      "for row in PosEarnings:", 
      "    count = 0", 
      "    for el in row[14:21]:", 
      "        count = count + 1 if el > 70 else count", 
      "    if count > 2:", 
      "        PosEarnings2.append(row)", 
      "    elif row[14] > 90:", 
      "        PosEarnings2.append(row)", 
      "    "
     ], 
     "language": "python", 
     "outputs": [], 
     "prompt_number": 65
    }, 
    {
     "cell_type": "code", 
     "collapsed": false, 
     "input": [
      "len(PosEarnings2)"
     ], 
     "language": "python", 
     "outputs": [
      {
       "output_type": "pyout", 
       "prompt_number": 66, 
       "text": [
        "47"
       ]
      }
     ], 
     "prompt_number": 66
    }, 
    {
     "cell_type": "code", 
     "collapsed": false, 
     "input": [
      "pricesDF = pandas.DataFrame()", 
      "for j in range(len(PosEarnings2)):", 
      "    tEvent = PosEarnings2[j][2]", 
      "    ticker = PosEarnings2[j][1]", 
      "    #tStart = tEvent + datetime.timedelta(seconds=-3600)", 
      "    tStart = tEvent + datetime.timedelta(seconds=0)", 
      "    tEnd = tEvent + datetime.timedelta(hours=24)", 
      "    dataPrices = db.query(\"\"\"select ticker, timestamp(date, time), last, volume from pricing1Sec where ticker = '%s'", 
      "                         and timestamp(date,time) >= '%s'", 
      "                         and timestamp(date,time) <= '%s';\"\"\" % (ticker, tStart.isoformat(), tEnd.isoformat()) )", 
      "    if len(dataPrices) == 0:", 
      "        continue", 
      "    #print dataPrices", 
      "    tOpening = dataPrices[0][1]", 
      "    for row in dataPrices:", 
      "        if tOpening < tEvent:", 
      "            delta = row[1] - tEvent", 
      "        else:", 
      "            delta = row[1] - tOpening", 
      "        row[1] = datetime.datetime(2012, 1, 1, 0, 0, 0) + delta", 
      "    if ticker not in pricesDF:", 
      "        print \"Ticker: \", ticker, \"Start: \", tStart, \" End: \", tEnd ,\" Event: \", tEvent, \" Opening: \", tOpening", 
      "        #print dataPrices[0], ticker", 
      "        dataPrices2 = pandas.DataFrame.from_records(dataPrices, index='datetime', columns=['ticker', 'datetime', dataPrices[0][0], 'volume'])", 
      "        del dataPrices2['ticker']; del dataPrices2['volume']", 
      "        del dataPrices", 
      "        pricesDF = pricesDF.join(dataPrices2, how=\"outer\")", 
      "", 
      "pricesDF = pricesDF.pct_change()", 
      "for col in pricesDF:", 
      "    pricesDF[col][1:] += 1", 
      "    pricesDF[col][0] = 1", 
      "pricesDF = pricesDF.cumprod()", 
      "pricesDF = pricesDF.fillna(method='pad')"
     ], 
     "language": "python", 
     "outputs": [
      {
       "output_type": "stream", 
       "stream": "stdout", 
       "text": [
        "Ticker:  ASGN Start:  2012-04-26 16:15:54  End:  2012-04-27 16:15:54  Event:  2012-04-26 16:15:54  Opening:  2012-04-26 16:17:48", 
        "Ticker:  BHE Start:  2012-04-26 07:19:58  End:  2012-04-27 07:19:58  Event:  2012-04-26 07:19:58  Opening:  2012-04-26 09:30:01", 
        "Ticker:  BOBE Start:  2012-06-05 16:15:31  End:  2012-06-06 16:15:31  Event:  2012-06-05 16:15:31  Opening:  2012-06-05 16:20:29", 
        "Ticker: "
       ]
      }, 
      {
       "output_type": "stream", 
       "stream": "stdout", 
       "text": [
        " CACI Start:  2012-06-06 16:29:55  End:  2012-06-07 16:29:55  Event:  2012-06-06 16:29:55  Opening:  2012-06-07 09:31:51", 
        "Ticker:  CLGX Start:  2012-04-25 16:47:18  End:  2012-04-26 16:47:18  Event:  2012-04-25 16:47:18  Opening:  2012-04-26 09:30:13", 
        "Ticker:  JACK Start:  2012-05-16 16:07:07  End:  2012-05-17 16:07:07  Event:  2012-05-16 16:07:07  Opening:  2012-05-16 16:47:21", 
        "Ticker: "
       ]
      }, 
      {
       "output_type": "stream", 
       "stream": "stdout", 
       "text": [
        " GWR Start:  2012-05-01 06:03:09  End:  2012-05-02 06:03:09  Event:  2012-05-01 06:03:09  Opening:  2012-05-01 09:32:24", 
        "Ticker:  KLIC Start:  2012-05-01 07:02:22  End:  2012-05-02 07:02:22  Event:  2012-05-01 07:02:22  Opening:  2012-05-01 08:01:48", 
        "Ticker: "
       ]
      }, 
      {
       "output_type": "stream", 
       "stream": "stdout", 
       "text": [
        " MCRL Start:  2012-04-26 16:31:32  End:  2012-04-27 16:31:32  Event:  2012-04-26 16:31:32  Opening:  2012-04-26 16:31:56", 
        "Ticker:  MTOR Start:  2012-05-02 08:03:54  End:  2012-05-03 08:03:54  Event:  2012-05-02 08:03:54  Opening:  2012-05-02 09:32:44", 
        "Ticker:  MSCC Start:  2012-04-25 16:09:57  End:  2012-04-26 16:09:57  Event:  2012-04-25 16:09:57  Opening:  2012-04-25 16:15:24", 
        "Ticker: "
       ]
      }, 
      {
       "output_type": "stream", 
       "stream": "stdout", 
       "text": [
        " NDSN Start:  2012-05-21 16:36:35  End:  2012-05-22 16:36:35  Event:  2012-05-21 16:36:35  Opening:  2012-05-21 16:40:14", 
        "Ticker:  NUS Start:  2012-04-26 07:55:30  End:  2012-04-27 07:55:30  Event:  2012-04-26 07:55:30  Opening:  2012-04-26 09:30:31", 
        "Ticker: "
       ]
      }, 
      {
       "output_type": "stream", 
       "stream": "stdout", 
       "text": [
        " POWI Start:  2012-05-03 16:24:43  End:  2012-05-04 16:24:43  Event:  2012-05-03 16:24:43  Opening:  2012-05-03 16:33:14", 
        "Ticker:  SHAW Start:  2012-05-21 16:38:33  End:  2012-05-22 16:38:33  Event:  2012-05-21 16:38:33  Opening:  2012-05-22 09:30:01", 
        "Ticker: "
       ]
      }, 
      {
       "output_type": "stream", 
       "stream": "stdout", 
       "text": [
        " SNPS Start:  2012-05-23 16:13:48  End:  2012-05-24 16:13:48  Event:  2012-05-23 16:13:48  Opening:  2012-05-23 16:16:15", 
        "Ticker:  DF Start:  2012-05-09 08:05:08  End:  2012-05-10 08:05:08  Event:  2012-05-09 08:05:08  Opening:  2012-05-09 09:33:11", 
        "Ticker: "
       ]
      }, 
      {
       "output_type": "stream", 
       "stream": "stdout", 
       "text": [
        " TKR Start:  2012-04-24 17:17:38  End:  2012-04-25 17:17:38  Event:  2012-04-24 17:17:38  Opening:  2012-04-25 09:31:06", 
        "Ticker:  WHR Start:  2012-05-16 11:43:44  End:  2012-05-17 11:43:44  Event:  2012-05-16 11:43:44  Opening:  2012-05-16 11:44:23", 
        "Ticker: "
       ]
      }, 
      {
       "output_type": "stream", 
       "stream": "stdout", 
       "text": [
        " AGCO Start:  2012-05-01 08:25:27  End:  2012-05-02 08:25:27  Event:  2012-05-01 08:25:27  Opening:  2012-05-01 09:32:14", 
        "Ticker:  MTZ Start:  2012-05-03 16:51:57  End:  2012-05-04 16:51:57  Event:  2012-05-03 16:51:57  Opening:  2012-05-04 09:30:01", 
        "Ticker: "
       ]
      }, 
      {
       "output_type": "stream", 
       "stream": "stdout", 
       "text": [
        " CMTL Start:  2012-06-07 16:13:11  End:  2012-06-08 16:13:11  Event:  2012-06-07 16:13:11  Opening:  2012-06-07 16:13:18", 
        "Ticker:  THC Start:  2012-05-08 07:41:46  End:  2012-05-09 07:41:46  Event:  2012-05-08 07:41:46  Opening:  2012-05-08 09:30:01", 
        "Ticker:  OFC Start:  2012-04-26 06:09:25  End:  2012-04-27 06:09:25  Event:  2012-04-26 06:09:25  Opening:  2012-04-26 09:30:11", 
        "Ticker: "
       ]
      }, 
      {
       "output_type": "stream", 
       "stream": "stdout", 
       "text": [
        " TRN Start:  2012-04-25 16:10:34  End:  2012-04-26 16:10:34  Event:  2012-04-25 16:10:34  Opening:  2012-04-26 09:30:10", 
        "Ticker:  UNF Start:  2012-06-27 08:03:15  End:  2012-06-28 08:03:15  Event:  2012-06-27 08:03:15  Opening:  2012-06-27 09:31:15", 
        "Ticker: "
       ]
      }, 
      {
       "output_type": "stream", 
       "stream": "stdout", 
       "text": [
        " ARRS Start:  2012-04-25 17:33:39  End:  2012-04-26 17:33:39  Event:  2012-04-25 17:33:39  Opening:  2012-04-25 19:34:26", 
        "Ticker:  LF Start:  2012-05-03 16:11:54  End:  2012-05-04 16:11:54  Event:  2012-05-03 16:11:54  Opening:  2012-05-04 09:32:14", 
        "Ticker: "
       ]
      }, 
      {
       "output_type": "stream", 
       "stream": "stdout", 
       "text": [
        " CRI Start:  2012-04-26 06:35:33  End:  2012-04-27 06:35:33  Event:  2012-04-26 06:35:33  Opening:  2012-04-26 09:34:53", 
        "Ticker:  TWGP Start:  2012-05-07 16:07:58  End:  2012-05-08 16:07:58  Event:  2012-05-07 16:07:58  Opening:  2012-05-07 16:09:49", 
        "Ticker:  DRH Start:  2012-04-30 08:08:30  End:  2012-05-01 08:08:30  Event:  2012-04-30 08:08:30  Opening:  2012-04-30 09:30:01", 
        "Ticker: "
       ]
      }, 
      {
       "output_type": "stream", 
       "stream": "stdout", 
       "text": [
        " HPY Start:  2012-05-01 07:38:58  End:  2012-05-02 07:38:58  Event:  2012-05-01 07:38:58  Opening:  2012-05-01 09:30:20", 
        "Ticker:  ACCO Start:  2012-05-10 07:06:04  End:  2012-05-11 07:06:04  Event:  2012-05-10 07:06:04  Opening:  2012-05-10 09:31:14", 
        "Ticker: "
       ]
      }, 
      {
       "output_type": "stream", 
       "stream": "stdout", 
       "text": [
        " LQDT Start:  2012-05-03 06:59:36  End:  2012-05-04 06:59:36  Event:  2012-05-03 06:59:36  Opening:  2012-05-03 08:08:00", 
        "Ticker: "
       ]
      }, 
      {
       "output_type": "stream", 
       "stream": "stdout", 
       "text": [
        " SPRD Start:  2012-05-03 16:59:58  End:  2012-05-04 16:59:58  Event:  2012-05-03 16:59:58  Opening:  2012-05-03 17:00:05", 
        "Ticker: "
       ]
      }, 
      {
       "output_type": "stream", 
       "stream": "stdout", 
       "text": [
        " LOPE Start:  2012-05-07 16:21:43  End:  2012-05-08 16:21:43  Event:  2012-05-07 16:21:43  Opening:  2012-05-07 16:25:06", 
        "Ticker: "
       ]
      }, 
      {
       "output_type": "stream", 
       "stream": "stdout", 
       "text": [
        " LOGM Start:  2012-04-25 16:37:50  End:  2012-04-26 16:37:50  Event:  2012-04-25 16:37:50  Opening:  2012-04-25 16:56:22", 
        "Ticker:  SYA Start:  2012-04-25 16:29:01  End:  2012-04-26 16:29:01  Event:  2012-04-25 16:29:01  Opening:  2012-04-26 09:32:24", 
        "Ticker: "
       ]
      }, 
      {
       "output_type": "stream", 
       "stream": "stdout", 
       "text": [
        " RPXC Start:  2012-05-01 16:43:02  End:  2012-05-02 16:43:02  Event:  2012-05-01 16:43:02  Opening:  2012-05-01 17:35:50", 
        "Ticker: "
       ]
      }, 
      {
       "output_type": "stream", 
       "stream": "stdout", 
       "text": [
        " Z Start:  2012-05-02 16:40:34  End:  2012-05-03 16:40:34  Event:  2012-05-02 16:40:34  Opening:  2012-05-02 16:40:42", 
        "Ticker: "
       ]
      }, 
      {
       "output_type": "stream", 
       "stream": "stdout", 
       "text": [
        " FRAN Start:  2012-06-07 16:07:54  End:  2012-06-08 16:07:54  Event:  2012-06-07 16:07:54  Opening:  2012-06-07 16:08:03"
       ]
      }
     ], 
     "prompt_number": 80
    }, 
    {
     "cell_type": "code", 
     "collapsed": false, 
     "input": [
      "average(pricesDF.ix[-1, :])"
     ], 
     "language": "python", 
     "outputs": [
      {
       "output_type": "pyout", 
       "prompt_number": 81, 
       "text": [
        "1.0191177280516519"
       ]
      }
     ], 
     "prompt_number": 81
    }, 
    {
     "cell_type": "code", 
     "collapsed": false, 
     "input": [
      "std(pricesDF.ix[-1, :])"
     ], 
     "language": "python", 
     "outputs": [
      {
       "output_type": "pyout", 
       "prompt_number": 82, 
       "text": [
        "0.049629860185440057"
       ]
      }
     ], 
     "prompt_number": 82
    }, 
    {
     "cell_type": "code", 
     "collapsed": false, 
     "input": [
      "pricesDF.ix[-1,:]"
     ], 
     "language": "python", 
     "outputs": [
      {
       "output_type": "pyout", 
       "prompt_number": 83, 
       "text": [
        "ASGN    1.060335", 
        "BHE     1.043279", 
        "BOBE    0.978917", 
        "CACI    1.034267", 
        "CLGX    1.040491", 
        "JACK    1.025163", 
        "GWR     1.050397", 
        "KLIC    0.927857", 
        "MCRL    1.038594", 
        "MTOR    0.967832", 
        "MSCC    1.042657", 
        "NDSN    1.047269", 
        "NUS     0.927167", 
        "POWI    1.123848", 
        "SHAW    0.952072", 
        "SNPS    1.050284", 
        "DF      1.023138", 
        "TKR     0.993301", 
        "WHR     0.962062", 
        "AGCO    0.970114", 
        "MTZ     1.059701", 
        "CMTL    1.059181", 
        "THC     1.017964", 
        "OFC     1.012190", 
        "TRN     0.954426", 
        "UNF     1.044610", 
        "ARRS    0.903950", 
        "LF      1.050000", 
        "CRI     1.000903", 
        "TWGP    1.010992", 
        "DRH     0.988837", 
        "HPY     1.024244", 
        "ACCO    1.028770", 
        "LQDT    1.104035", 
        "SPRD    1.004347", 
        "LOPE    1.129152", 
        "LOGM    1.000000", 
        "SYA     0.987448", 
        "RPXC    0.994854", 
        "Z       1.070199", 
        "FRAN    1.078980", 
        "Name: 2012-01-01 23:59:09"
       ]
      }
     ], 
     "prompt_number": 83
    }, 
    {
     "cell_type": "code", 
     "collapsed": false, 
     "input": [
      "for row in PosEarnings2:", 
      "    if row[1] == 'ULTA':", 
      "        print row"
     ], 
     "language": "python", 
     "outputs": [
      {
       "output_type": "stream", 
       "stream": "stdout", 
       "text": [
        "[1630728L, 'ULTA', datetime.datetime(2012, 5, 7, 16, 52, 3), ' Ulta Salon sees Q1 EPS 52-53c, consensus 48c', 'Sees revenue $474M, consensus $459.82M.', 1630728L, 0.53, 0.53, 0.53, 0.48, 0.104167, 'ULTA SALON COSMETCS & FRAG I COM', datetime.date(2012, 5, 7), 401157L, 75L, 73L, 7L, 11L, 90L, 37L, 72L, 67L, 5877.57468957]", 
        "[1647328L, 'ULTA', datetime.datetime(2012, 6, 5, 16, 8, 7), ' Ulta Salon sees Q2 EPS with items 49c-51c, consensus 48c', \"Q2 EPS guidance range includes approximately 2c per diluted share of additional costs associated with the planned expansion of prestige brand boutiques and the start-up of the company's new Chambersburg distribution center.The company sees revenue $466M-$473M, consensus $467.4M. \", 1647328L, 0.49, 0.51, 0.5, 0.48, 0.041667, 'ULTA SALON COSMETCS & FRAG I COM', datetime.date(2012, 6, 5), 401157L, 86L, 74L, 7L, 10L, 78L, 38L, 60L, 73L, 5877.57468957]"
       ]
      }
     ], 
     "prompt_number": 46
    }, 
    {
     "cell_type": "code", 
     "collapsed": true, 
     "input": [], 
     "language": "python", 
     "outputs": []
    }
   ]
  }
 ]
}