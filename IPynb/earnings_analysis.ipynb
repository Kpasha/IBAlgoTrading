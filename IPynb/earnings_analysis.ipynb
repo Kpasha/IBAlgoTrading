{
 "metadata": {
  "name": "earnings_analysis"
 }, 
 "nbformat": 2, 
 "worksheets": [
  {
   "cells": [
    {
     "cell_type": "code", 
     "collapsed": true, 
     "input": [
      "import sys", 
      "sys.path.append('/home/mchan/git/Artemis/brotchie-pytrth-381894a/trth/')", 
      "sys.path.append('/home/mchan/git/Artemis/util/')", 
      "import dbutil", 
      "import re", 
      "import pandas", 
      "import pandas.io.sql", 
      "import matplotlib.pyplot as plt", 
      "import datetime", 
      "from pandas.tseries.offsets import *"
     ], 
     "language": "python", 
     "outputs": [], 
     "prompt_number": 7
    }, 
    {
     "cell_type": "code", 
     "collapsed": false, 
     "input": [
      "db = dbutil.db(h='127.0.0.1', schema='mchan')", 
      "db.query(\"show tables;\")"
     ], 
     "language": "python", 
     "outputs": [
      {
       "output_type": "pyout", 
       "prompt_number": 667, 
       "text": [
        "[['consensus_quant'],", 
        " ['earnings'],", 
        " ['earnings_clean'],", 
        " ['earnings_clean2'],", 
        " ['earnings_test'],", 
        " ['eq_daily'],", 
        " ['flyonthewall'],", 
        " ['flyonthewall2'],", 
        " ['mapping'],", 
        " ['pricing1'],", 
        " ['pricing1Min'],", 
        " ['pricing1Sec'],", 
        " ['pricing_test'],", 
        " ['research_mapping_ds2'],", 
        " ['security_price']]"
       ]
      }
     ], 
     "prompt_number": 667
    }, 
    {
     "cell_type": "code", 
     "collapsed": true, 
     "input": [
      "#and e.headline not like '%c)%'", 
      "PosEarnings = db.query(\"\"\"select e.*, q.*, m.name, s.market_cap_usd_mm from mchan.earnings_clean e", 
      "                          inner join mchan.consensus_quant q", 
      "                          on e.id = q.id", 
      "                          inner join mchan.mapping m", 
      "                          on m.ticker = e.ticker", 
      "                          inner join mchan.security_price s", 
      "                          on s.security_id = m.security_id", 
      "                          inner join mchan.eq_daily d", 
      "                          on m.security_id = d.security_id", 
      "                          and date(e.release_date) = d.as_of_date", 
      "                          where q.outperform > 0.05", 
      "                          and e.headline like '%see%'", 
      "                          and e.headline not like '%adjusted%'", 
      "                          and e.headline not like '%c)%'", 
      "                          and s.market_cap_usd_mm < 2000", 
      "                          and s.market_cap_usd_mm > 200", 
      "                          and d.eq_region_rank > 10;\"\"\")"
     ], 
     "language": "python", 
     "outputs": [], 
     "prompt_number": 677
    }, 
    {
     "cell_type": "code", 
     "collapsed": true, 
     "input": [
      "PosEarnings = db.query(\"\"\"select e.*, q.*, m.name, s.market_cap_usd_mm from mchan.earnings_clean e", 
      "                          inner join mchan.consensus_quant q", 
      "                          on e.id = q.id", 
      "                          inner join mchan.mapping m", 
      "                          on m.ticker = e.ticker", 
      "                          inner join mchan.security_price s", 
      "                          on s.security_id = m.security_id", 
      "                          where q.outperform > 0.50", 
      "                          and e.headline like '%report%'", 
      "                          and e.headline not like '%adjusted%'", 
      "                          and e.headline not like '%c)%'", 
      "                          and s.market_cap_usd_mm > 500;\"\"\")"
     ], 
     "language": "python", 
     "outputs": [], 
     "prompt_number": 547
    }, 
    {
     "cell_type": "code", 
     "collapsed": false, 
     "input": [
      "PosEarnings[18]"
     ], 
     "language": "python", 
     "outputs": [
      {
       "output_type": "pyout", 
       "prompt_number": 504, 
       "text": [
        "[1621069L,", 
        " 'MSCC',", 
        " datetime.datetime(2012, 4, 25, 16, 9, 57),", 
        " ' Microsemi sees Q3 EPS 51c-55c, consensus 48c',", 
        " 'Sees Q3 revenue up 3%-5% sequentially, consensus $256.62M.',", 
        " 1621069L,", 
        " 0.51,", 
        " 0.55,", 
        " 0.53,", 
        " 0.48,", 
        " 0.104167,", 
        " 'MICROSEMI CORP COM',", 
        " 1642.83680975]"
       ]
      }
     ], 
     "prompt_number": 504
    }, 
    {
     "cell_type": "code", 
     "collapsed": false, 
     "input": [
      "", 
      "PosEarnings2 = PosEarnings", 
      "len(PosEarnings)"
     ], 
     "language": "python", 
     "outputs": [
      {
       "output_type": "pyout", 
       "prompt_number": 678, 
       "text": [
        "25"
       ]
      }
     ], 
     "prompt_number": 678
    }, 
    {
     "cell_type": "code", 
     "collapsed": false, 
     "input": [
      "for row in PosEarnings2:", 
      "    if row[1] == 'KLIC':", 
      "        print row"
     ], 
     "language": "python", 
     "outputs": [
      {
       "output_type": "stream", 
       "stream": "stdout", 
       "text": [
        "[1625066L, 'KLIC', datetime.datetime(2012, 5, 1, 7, 2, 22), ' Kulicke & Soffa sees Q3 revenue $220M-$240M, consensus $197.32M.', 'Outlook reflects reflecting the ongoing transition from gold to copper, strength across all our product lines, combined with an improvement in the broader semiconductor industry led by positive equipment inventory trends, capacity levels and end market growth drivers.   ', 1625066L, 220.0, 240.0, 230.0, 197.32, 0.165619, 'KULICKE & SOFFA INDS INC COM', 660.44396597]"
       ]
      }
     ], 
     "prompt_number": 620
    }, 
    {
     "cell_type": "code", 
     "collapsed": false, 
     "input": [
      "len(PosEarnings)"
     ], 
     "language": "python", 
     "outputs": [
      {
       "output_type": "pyout", 
       "prompt_number": 234, 
       "text": [
        "1387"
       ]
      }
     ], 
     "prompt_number": 234
    }, 
    {
     "cell_type": "code", 
     "collapsed": false, 
     "input": [
      "figsize(20,5)", 
      "pricesDF.ix[:, 'KLIC'].plot()"
     ], 
     "language": "python", 
     "outputs": [
      {
       "output_type": "pyout", 
       "prompt_number": 684, 
       "text": [
        "<matplotlib.axes.AxesSubplot at 0x13cdd6290>"
       ]
      }, 
      {
       "output_type": "display_data", 
       "png": "[encoded data removed]"
      }
     ], 
     "prompt_number": 684
    }, 
    {
     "cell_type": "markdown", 
     "source": [
      "#Need to find stocks that trade during earnings releases"
     ]
    }, 
    {
     "cell_type": "code", 
     "collapsed": false, 
     "input": [
      "pricesDF = pandas.DataFrame()", 
      "for j in range(len(PosEarnings2)):", 
      "    tEvent = PosEarnings2[j][2]", 
      "    ticker = PosEarnings2[j][1]", 
      "    #tStart = tEvent + datetime.timedelta(seconds=-3600)", 
      "    tStart = tEvent + datetime.timedelta(seconds=0)", 
      "    tEnd = tEvent + datetime.timedelta(hours=24)", 
      "    dataPrices = db.query(\"\"\"select ticker, timestamp(date, time), last, volume from pricing1Sec where ticker = '%s'", 
      "                         and timestamp(date,time) >= '%s'", 
      "                         and timestamp(date,time) <= '%s';\"\"\" % (ticker, tStart.isoformat(), tEnd.isoformat()) )", 
      "    if len(dataPrices) == 0:", 
      "        continue", 
      "    #print dataPrices", 
      "    tOpening = dataPrices[0][1]", 
      "    for row in dataPrices:", 
      "        if tOpening < tEvent:", 
      "            delta = row[1] - tEvent", 
      "        else:", 
      "            delta = row[1] - tOpening", 
      "        row[1] = datetime.datetime(2012, 1, 1, 0, 0, 0) + delta", 
      "    if ticker not in pricesDF:", 
      "        print \"Start: \", tStart, \" End: \", tEnd ,\" Event: \", tEvent, \" Opening: \", tOpening", 
      "        #print dataPrices[0], ticker", 
      "        dataPrices2 = pandas.DataFrame.from_records(dataPrices, index='datetime', columns=['ticker', 'datetime', dataPrices[0][0], 'volume'])", 
      "        del dataPrices2['ticker']; del dataPrices2['volume']", 
      "        del dataPrices", 
      "        pricesDF = pricesDF.join(dataPrices2, how=\"outer\")", 
      "", 
      "pricesDF = pricesDF.pct_change()", 
      "for col in pricesDF:", 
      "    pricesDF[col][1:] += 1", 
      "    pricesDF[col][0] = 1", 
      "pricesDF = pricesDF.cumprod()", 
      "pricesDF = pricesDF.fillna(method='pad')"
     ], 
     "language": "python", 
     "outputs": [
      {
       "output_type": "stream", 
       "stream": "stdout", 
       "text": [
        "Start:  2012-04-26 16:15:54  End:  2012-04-27 16:15:54  Event:  2012-04-26 16:15:54  Opening:  2012-04-26 16:17:48", 
        "Start:  2012-04-26 07:19:58  End:  2012-04-27 07:19:58  Event:  2012-04-26 07:19:58  Opening:  2012-04-26 09:30:01", 
        "Start:  2012-06-05 16:15:31  End:  2012-06-06 16:15:31  Event:  2012-06-05 16:15:31  Opening:  2012-06-05 16:20:29", 
        "Start:  2012-06-06 16:29:55  End:  2012-06-07 16:29:55  Event:  2012-06-06 16:29:55  Opening:  2012-06-07 09:31:51", 
        "Start: "
       ]
      }, 
      {
       "output_type": "stream", 
       "stream": "stdout", 
       "text": [
        " 2012-05-01 07:02:22  End:  2012-05-02 07:02:22  Event:  2012-05-01 07:02:22  Opening:  2012-05-01 08:01:48", 
        "Start:  2012-04-26 16:31:32  End:  2012-04-27 16:31:32  Event:  2012-04-26 16:31:32  Opening:  2012-04-26 16:31:56", 
        "Start:  2012-04-25 16:09:57  End:  2012-04-26 16:09:57  Event:  2012-04-25 16:09:57  Opening:  2012-04-25 16:15:24", 
        "Start: "
       ]
      }, 
      {
       "output_type": "stream", 
       "stream": "stdout", 
       "text": [
        " 2012-05-23 07:34:28  End:  2012-05-24 07:34:28  Event:  2012-05-23 07:34:28  Opening:  2012-05-23 09:30:44", 
        "Start:  2012-05-03 16:24:43  End:  2012-05-04 16:24:43  Event:  2012-05-03 16:24:43  Opening:  2012-05-03 16:33:14", 
        "Start: "
       ]
      }, 
      {
       "output_type": "stream", 
       "stream": "stdout", 
       "text": [
        " 2012-05-01 17:09:33  End:  2012-05-02 17:09:33  Event:  2012-05-01 17:09:33  Opening:  2012-05-01 17:14:18", 
        "Start:  2012-05-21 16:38:33  End:  2012-05-22 16:38:33  Event:  2012-05-21 16:38:33  Opening:  2012-05-22 09:30:01", 
        "Start:  2012-05-03 16:51:57  End:  2012-05-04 16:51:57  Event:  2012-05-03 16:51:57  Opening:  2012-05-04 09:30:01", 
        "Start: "
       ]
      }, 
      {
       "output_type": "stream", 
       "stream": "stdout", 
       "text": [
        " 2012-06-07 16:13:11  End:  2012-06-08 16:13:11  Event:  2012-06-07 16:13:11  Opening:  2012-06-07 16:13:18", 
        "Start:  2012-04-26 06:09:25  End:  2012-04-27 06:09:25  Event:  2012-04-26 06:09:25  Opening:  2012-04-26 09:30:11", 
        "Start:  2012-06-27 08:03:15  End:  2012-06-28 08:03:15  Event:  2012-06-27 08:03:15  Opening:  2012-06-27 09:31:15", 
        "Start: "
       ]
      }, 
      {
       "output_type": "stream", 
       "stream": "stdout", 
       "text": [
        " 2012-04-25 17:33:39  End:  2012-04-26 17:33:39  Event:  2012-04-25 17:33:39  Opening:  2012-04-25 19:34:26", 
        "Start:  2012-04-30 08:08:30  End:  2012-05-01 08:08:30  Event:  2012-04-30 08:08:30  Opening:  2012-04-30 09:30:01", 
        "Start:  2012-05-01 07:38:58  End:  2012-05-02 07:38:58  Event:  2012-05-01 07:38:58  Opening:  2012-05-01 09:30:20", 
        "Start: "
       ]
      }, 
      {
       "output_type": "stream", 
       "stream": "stdout", 
       "text": [
        " 2012-05-01 16:10:52  End:  2012-05-02 16:10:52  Event:  2012-05-01 16:10:52  Opening:  2012-05-01 16:12:54", 
        "Start:  2012-05-10 07:06:04  End:  2012-05-11 07:06:04  Event:  2012-05-10 07:06:04  Opening:  2012-05-10 09:31:14", 
        "Start: "
       ]
      }, 
      {
       "output_type": "stream", 
       "stream": "stdout", 
       "text": [
        " 2012-05-03 06:59:36  End:  2012-05-04 06:59:36  Event:  2012-05-03 06:59:36  Opening:  2012-05-03 08:08:00", 
        "Start:  2012-05-07 16:21:43  End:  2012-05-08 16:21:43  Event:  2012-05-07 16:21:43  Opening:  2012-05-07 16:25:06", 
        "Start: "
       ]
      }, 
      {
       "output_type": "stream", 
       "stream": "stdout", 
       "text": [
        " 2012-04-25 16:29:01  End:  2012-04-26 16:29:01  Event:  2012-04-25 16:29:01  Opening:  2012-04-26 09:32:24", 
        "Start:  2012-05-01 16:43:02  End:  2012-05-02 16:43:02  Event:  2012-05-01 16:43:02  Opening:  2012-05-01 17:35:50"
       ]
      }
     ], 
     "prompt_number": 679
    }, 
    {
     "cell_type": "markdown", 
     "source": [
      "#This is for all positive reported earnings"
     ]
    }, 
    {
     "cell_type": "code", 
     "collapsed": false, 
     "input": [
      "average(pricesDF.ix[-1, :])"
     ], 
     "language": "python", 
     "outputs": [
      {
       "output_type": "pyout", 
       "prompt_number": 370, 
       "text": [
        "1.0016175757617543"
       ]
      }
     ], 
     "prompt_number": 370
    }, 
    {
     "cell_type": "code", 
     "collapsed": false, 
     "input": [
      "std(pricesDF.ix[-1, :])"
     ], 
     "language": "python", 
     "outputs": [
      {
       "output_type": "pyout", 
       "prompt_number": 371, 
       "text": [
        "0.066720042252753381"
       ]
      }
     ], 
     "prompt_number": 371
    }, 
    {
     "cell_type": "markdown", 
     "source": [
      "#This is for all positive forecasts"
     ]
    }, 
    {
     "cell_type": "code", 
     "collapsed": false, 
     "input": [
      "average(pricesDF.ix[-1, :])"
     ], 
     "language": "python", 
     "outputs": [
      {
       "output_type": "pyout", 
       "prompt_number": 375, 
       "text": [
        "1.006559946414304"
       ]
      }
     ], 
     "prompt_number": 375
    }, 
    {
     "cell_type": "code", 
     "collapsed": false, 
     "input": [
      "std(pricesDF.ix[-1, :])"
     ], 
     "language": "python", 
     "outputs": [
      {
       "output_type": "pyout", 
       "prompt_number": 376, 
       "text": [
        "0.080893196260567957"
       ]
      }
     ], 
     "prompt_number": 376
    }, 
    {
     "cell_type": "markdown", 
     "source": [
      "#All positive reported earnings > 40% of consensus"
     ]
    }, 
    {
     "cell_type": "code", 
     "collapsed": false, 
     "input": [
      "average(pricesDF.ix[-1, :])"
     ], 
     "language": "python", 
     "outputs": [
      {
       "output_type": "pyout", 
       "prompt_number": 382, 
       "text": [
        "1.0057652357122975"
       ]
      }
     ], 
     "prompt_number": 382
    }, 
    {
     "cell_type": "code", 
     "collapsed": false, 
     "input": [
      "std(pricesDF.ix[-1, :])"
     ], 
     "language": "python", 
     "outputs": [
      {
       "output_type": "pyout", 
       "prompt_number": 383, 
       "text": [
        "0.083719202498623219"
       ]
      }
     ], 
     "prompt_number": 383
    }, 
    {
     "cell_type": "markdown", 
     "source": [
      "#Now > 100% of consensus"
     ]
    }, 
    {
     "cell_type": "code", 
     "collapsed": false, 
     "input": [
      "average(pricesDF.ix[-1, :])"
     ], 
     "language": "python", 
     "outputs": [
      {
       "output_type": "pyout", 
       "prompt_number": 388, 
       "text": [
        "1.0070269018101332"
       ]
      }
     ], 
     "prompt_number": 388
    }, 
    {
     "cell_type": "code", 
     "collapsed": false, 
     "input": [
      "std(pricesDF.ix[-1, :])"
     ], 
     "language": "python", 
     "outputs": [
      {
       "output_type": "pyout", 
       "prompt_number": 389, 
       "text": [
        "0.092349123058720284"
       ]
      }
     ], 
     "prompt_number": 389
    }, 
    {
     "cell_type": "markdown", 
     "source": [
      "#Reported earnings > 100% of consensus and > 500 million market cap"
     ]
    }, 
    {
     "cell_type": "code", 
     "collapsed": false, 
     "input": [
      "average(pricesDF.ix[-1, :])"
     ], 
     "language": "python", 
     "outputs": [
      {
       "output_type": "pyout", 
       "prompt_number": 407, 
       "text": [
        "1.0077443642382993"
       ]
      }
     ], 
     "prompt_number": 407
    }, 
    {
     "cell_type": "code", 
     "collapsed": false, 
     "input": [
      "std(pricesDF.ix[-1,:])"
     ], 
     "language": "python", 
     "outputs": [
      {
       "output_type": "pyout", 
       "prompt_number": 408, 
       "text": [
        "0.068564453064948475"
       ]
      }
     ], 
     "prompt_number": 408
    }, 
    {
     "cell_type": "code", 
     "collapsed": true, 
     "input": [
      "hist(pricesDF.ix[-1,:], bins=20, log=False)"
     ], 
     "language": "python", 
     "outputs": [
      {
       "output_type": "pyout", 
       "prompt_number": 410, 
       "text": [
        "(array([2, 3, 2, 0, 2, 3, 8, 5, 9, 7, 5, 5, 6, 1, 2, 3, 1, 2, 0, 1]),", 
        " array([ 0.86      ,  0.87621336,  0.89242672,  0.90864009,  0.92485345,", 
        "        0.94106681,  0.95728017,  0.97349353,  0.9897069 ,  1.00592026,", 
        "        1.02213362,  1.03834698,  1.05456034,  1.07077371,  1.08698707,", 
        "        1.10320043,  1.11941379,  1.13562716,  1.15184052,  1.16805388,", 
        "        1.18426724]),", 
        " <a list of 20 Patch objects>)"
       ]
      }, 
      {
       "output_type": "display_data", 
       "png": "[encoded data removed]"
      }
     ], 
     "prompt_number": 410
    }, 
    {
     "cell_type": "markdown", 
     "source": [
      "#20% greater reported earnings and 500mil market cap"
     ]
    }, 
    {
     "cell_type": "code", 
     "collapsed": false, 
     "input": [
      "average(pricesDF.ix[-1, :])"
     ], 
     "language": "python", 
     "outputs": [
      {
       "output_type": "pyout", 
       "prompt_number": 423, 
       "text": [
        "1.0056510141528183"
       ]
      }
     ], 
     "prompt_number": 423
    }, 
    {
     "cell_type": "code", 
     "collapsed": false, 
     "input": [
      "std(pricesDF.ix[-1,:])"
     ], 
     "language": "python", 
     "outputs": [
      {
       "output_type": "pyout", 
       "prompt_number": 424, 
       "text": [
        "0.064614256821850027"
       ]
      }
     ], 
     "prompt_number": 424
    }, 
    {
     "cell_type": "code", 
     "collapsed": true, 
     "input": [
      "hist(pricesDF.ix[-1,:], bins=20, log=False)"
     ], 
     "language": "python", 
     "outputs": [
      {
       "output_type": "pyout", 
       "prompt_number": 425, 
       "text": [
        "(array([ 1,  0,  1,  3,  8, 11, 12, 23, 48, 69, 42, 33, 19,  8, 11,  6,  2,", 
        "        2,  0,  1]),", 
        " array([ 0.76827586,  0.7926454 ,  0.81701494,  0.84138448,  0.86575402,", 
        "        0.89012356,  0.9144931 ,  0.93886264,  0.96323218,  0.98760172,", 
        "        1.01197126,  1.0363408 ,  1.06071034,  1.08507989,  1.10944943,", 
        "        1.13381897,  1.15818851,  1.18255805,  1.20692759,  1.23129713,", 
        "        1.25566667]),", 
        " <a list of 20 Patch objects>)"
       ]
      }, 
      {
       "output_type": "display_data", 
       "png": "[encoded data removed]"
      }
     ], 
     "prompt_number": 425
    }, 
    {
     "cell_type": "markdown", 
     "source": [
      "#5% greater predicted earnings and 500mil market cap, with some parsing errors fixed"
     ]
    }, 
    {
     "cell_type": "code", 
     "collapsed": false, 
     "input": [
      "average(pricesDF.ix[-1, :])"
     ], 
     "language": "python", 
     "outputs": [
      {
       "output_type": "pyout", 
       "prompt_number": 490, 
       "text": [
        "1.0186346377477875"
       ]
      }
     ], 
     "prompt_number": 490
    }, 
    {
     "cell_type": "code", 
     "collapsed": false, 
     "input": [
      "std(pricesDF.ix[-1,:])"
     ], 
     "language": "python", 
     "outputs": [
      {
       "output_type": "pyout", 
       "prompt_number": 491, 
       "text": [
        "0.062575734128373806"
       ]
      }
     ], 
     "prompt_number": 491
    }, 
    {
     "cell_type": "code", 
     "collapsed": false, 
     "input": [
      "hist(pricesDF.ix[-1,:], bins=10, log=False)"
     ], 
     "language": "python", 
     "outputs": [
      {
       "output_type": "pyout", 
       "prompt_number": 495, 
       "text": [
        "(array([ 1,  6,  8, 10, 11,  9,  6,  3,  1,  1]),", 
        " array([ 0.88172937,  0.91348097,  0.94523258,  0.97698418,  1.00873578,", 
        "        1.04048739,  1.07223899,  1.1039906 ,  1.1357422 ,  1.1674938 ,", 
        "        1.19924541]),", 
        " <a list of 10 Patch objects>)"
       ]
      }, 
      {
       "output_type": "display_data", 
       "png": "[encoded data removed]"
      }
     ], 
     "prompt_number": 495
    }, 
    {
     "cell_type": "markdown", 
     "source": [
      "# >%5 greater predicted earnings. >50 eq >500 mil market cap"
     ]
    }, 
    {
     "cell_type": "code", 
     "collapsed": false, 
     "input": [
      "average(pricesDF.ix[-1, :])"
     ], 
     "language": "python", 
     "outputs": [
      {
       "output_type": "pyout", 
       "prompt_number": 639, 
       "text": [
        "1.0162250124998384"
       ]
      }
     ], 
     "prompt_number": 639
    }, 
    {
     "cell_type": "code", 
     "collapsed": false, 
     "input": [
      "std(pricesDF.ix[-1,:])"
     ], 
     "language": "python", 
     "outputs": [
      {
       "output_type": "pyout", 
       "prompt_number": 640, 
       "text": [
        "0.054086507882788425"
       ]
      }
     ], 
     "prompt_number": 640
    }, 
    {
     "cell_type": "code", 
     "collapsed": true, 
     "input": [
      "for col in pricesDF:", 
      "    pricesDF[col][1:] += 1", 
      "    pricesDF[col][0] = 1", 
      "pricesDF = pricesDF.cumprod()", 
      "pricesDF = pricesDF.fillna(method='pad')"
     ], 
     "language": "python", 
     "outputs": [], 
     "prompt_number": 302
    }, 
    {
     "cell_type": "code", 
     "collapsed": true, 
     "input": [
      "pricesDF = pricesDF.fillna(method='pad')"
     ], 
     "language": "python", 
     "outputs": [], 
     "prompt_number": 296
    }, 
    {
     "cell_type": "code", 
     "collapsed": true, 
     "input": [
      "pricesDF.ix[-1, :]"
     ], 
     "language": "python", 
     "outputs": [
      {
       "output_type": "pyout", 
       "prompt_number": 567, 
       "text": [
        "AGCO    0.970114", 
        "ARRS    0.903950", 
        "ASGN    1.060335", 
        "BHE     1.043279", 
        "CNQR    1.066277", 
        "CRI     1.000903", 
        "CVS     1.007018", 
        "DRH     0.988837", 
        "EMN     1.020389", 
        "GGP     1.035573", 
        "GPS     1.004907", 
        "GWR     1.050397", 
        "HEK     0.961240", 
        "HPY     1.024244", 
        "KLIC    0.927857", 
        "LF      1.050000", 
        "LQDT    1.104035", 
        "MCRL    1.038594", 
        "MSCC    1.042657", 
        "NUS     0.927167", 
        "OFC     1.012190", 
        "POWI    1.123848", 
        "PZZA    1.160784", 
        "RPXC    0.994854", 
        "SREV    0.871491", 
        "SYA     0.987448", 
        "TKR     0.993301", 
        "TRN     0.954426", 
        "WBMD    0.966478", 
        "ACCO    1.028770", 
        "AMAT    0.987595", 
        "DF      1.023138", 
        "GEO     1.085294", 
        "HMIN    1.074103", 
        "IDCC    1.041569", 
        "LOPE    1.129152", 
        "MDT     0.993407", 
        "MTZ     1.059701", 
        "QIHU    0.950230", 
        "SHAW    0.952072", 
        "SNPS    1.050284", 
        "THC     1.017964", 
        "ULTA    0.941623", 
        "VCRA    1.062813", 
        "BOBE    0.978917", 
        "CACI    1.034267", 
        "CMTL    1.059181", 
        "KORS    0.975089", 
        "MON     1.004734", 
        "UNF     1.044610", 
        "Name: 2012-01-01 23:56:34"
       ]
      }
     ], 
     "prompt_number": 567
    }, 
    {
     "cell_type": "code", 
     "collapsed": false, 
     "input": [
      "average(pricesDF.ix[-1, :])"
     ], 
     "language": "python", 
     "outputs": [
      {
       "output_type": "pyout", 
       "prompt_number": 680, 
       "text": [
        "1.0301496472286769"
       ]
      }
     ], 
     "prompt_number": 680
    }, 
    {
     "cell_type": "code", 
     "collapsed": false, 
     "input": [
      "std(pricesDF.ix[-1,:])"
     ], 
     "language": "python", 
     "outputs": [
      {
       "output_type": "pyout", 
       "prompt_number": 681, 
       "text": [
        "0.061035735545797554"
       ]
      }
     ], 
     "prompt_number": 681
    }, 
    {
     "cell_type": "code", 
     "collapsed": false, 
     "input": [
      "hist(pricesDF.ix[-1,:], bins=5, log=False)"
     ], 
     "language": "python", 
     "outputs": [
      {
       "output_type": "pyout", 
       "prompt_number": 683, 
       "text": [
        "(array([3, 5, 9, 4, 3]),", 
        " array([ 0.90395043,  0.9553172 ,  1.00668398,  1.05805076,  1.10941754,", 
        "        1.16078431]),", 
        " <a list of 5 Patch objects>)"
       ]
      }, 
      {
       "output_type": "display_data", 
       "png": "[encoded data removed]"
      }
     ], 
     "prompt_number": 683
    }, 
    {
     "cell_type": "code", 
     "collapsed": false, 
     "input": [
      "range(10,20)"
     ], 
     "language": "python", 
     "outputs": [
      {
       "output_type": "pyout", 
       "prompt_number": 318, 
       "text": [
        "[10, 11, 12, 13, 14, 15, 16, 17, 18, 19]"
       ]
      }
     ], 
     "prompt_number": 318
    }, 
    {
     "cell_type": "code", 
     "collapsed": true, 
     "input": [], 
     "language": "python", 
     "outputs": []
    }
   ]
  }
 ]
}