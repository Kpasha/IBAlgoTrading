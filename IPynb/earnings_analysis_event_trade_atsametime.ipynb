{
 "metadata": {
  "name": "earnings_analysis_event_trade_atsametime"
 }, 
 "nbformat": 2, 
 "worksheets": [
  {
   "cells": [
    {
     "cell_type": "code", 
     "collapsed": true, 
     "input": [
      "import sys", 
      "sys.path.append('/home/mchan/git/Artemis/brotchie-pytrth-381894a/trth/')", 
      "sys.path.append('/home/mchan/git/Artemis/util/')", 
      "import dbutil", 
      "import re", 
      "import pandas", 
      "import pandas.io.sql", 
      "import matplotlib.pyplot as plt", 
      "import datetime", 
      "from pandas.tseries.offsets import *", 
      "import random"
     ], 
     "language": "python", 
     "outputs": [], 
     "prompt_number": 1
    }, 
    {
     "cell_type": "code", 
     "collapsed": false, 
     "input": [
      "db = dbutil.db(h='127.0.0.1', schema='mchan')", 
      "db.query(\"show tables;\")"
     ], 
     "language": "python", 
     "outputs": [
      {
       "output_type": "pyout", 
       "prompt_number": 2, 
       "text": [
        "[['consensus_quant'],", 
        " ['consensus_quant_backup'],", 
        " ['earnings'],", 
        " ['earnings_clean'],", 
        " ['earnings_clean_pt2'],", 
        " ['earnings_test'],", 
        " ['eq_daily'],", 
        " ['flyonthewall'],", 
        " ['flyonthewall2'],", 
        " ['mapping'],", 
        " ['mapping2'],", 
        " ['pricing1'],", 
        " ['pricing1Min'],", 
        " ['pricing1Sec'],", 
        " ['pricing1Sec_pt2'],", 
        " ['pricing_test'],", 
        " ['research_mapping_ds2'],", 
        " ['security_price'],", 
        " ['s_daily']]"
       ]
      }
     ], 
     "prompt_number": 2
    }, 
    {
     "cell_type": "code", 
     "collapsed": true, 
     "input": [
      "#and e.headline not like '%c)%'", 
      "PosEarnings = db.query(\"\"\"select e.*, q.*, m.name, s.market_cap_usd_mm from mchan.earnings_clean_pt2 e", 
      "                          inner join mchan.consensus_quant q", 
      "                          on e.id = q.id", 
      "                          inner join mchan.mapping m", 
      "                          on m.ticker = e.ticker", 
      "                          inner join mchan.security_price s", 
      "                          on s.security_id = m.security_id", 
      "                          inner join mchan.s_daily d", 
      "                          on m.security_id = d.security_id", 
      "                          and date(e.release_date) = d.as_of_date", 
      "                          where q.outperform > 0.03", 
      "                          and e.headline like '%see%'", 
      "                          and e.headline not like '%adjusted%'", 
      "                          and e.headline not like '%c)%'", 
      "                          and s.market_cap_usd_mm < 5000", 
      "                          and s.market_cap_usd_mm > 500", 
      "                          and d.eq_region_rank > 10;\"\"\")"
     ], 
     "language": "python", 
     "outputs": [], 
     "prompt_number": 3
    }, 
    {
     "cell_type": "code", 
     "collapsed": true, 
     "input": [
      "#and e.headline not like '%c)%'", 
      "PosEarnings = db.query(\"\"\"select e.*, q.*, m.name, s.market_cap_usd_mm from mchan.earnings_clean e", 
      "                          inner join mchan.consensus_quant q", 
      "                          on e.id = q.id", 
      "                          inner join mchan.mapping m", 
      "                          on m.ticker = e.ticker", 
      "                          inner join mchan.security_price s", 
      "                          on s.security_id = m.security_id", 
      "                          inner join mchan.eq_daily d", 
      "                          on m.security_id = d.security_id", 
      "                          and date(e.release_date) = d.as_of_date", 
      "                          where q.outperform > 0.01", 
      "                          and e.headline like '%see%';\"\"\")"
     ], 
     "language": "python", 
     "outputs": [], 
     "prompt_number": 45
    }, 
    {
     "cell_type": "code", 
     "collapsed": true, 
     "input": [
      "for i in range(0, len(PosEarnings)):", 
      "    if PosEarnings[i][1] == 'ROVI':", 
      "        print PosEarnings[i]", 
      "        print i", 
      "        "
     ], 
     "language": "python", 
     "outputs": [], 
     "prompt_number": 75
    }, 
    {
     "cell_type": "code", 
     "collapsed": false, 
     "input": [
      "PosEarnings[16]"
     ], 
     "language": "python", 
     "outputs": [
      {
       "output_type": "pyout", 
       "prompt_number": 54, 
       "text": [
        "[1668624L,", 
        " 'ROVI',", 
        " datetime.datetime(2012, 7, 17, 16, 11, 24),", 
        " 'Sees Q2 revenue $158M, consensus $184.64M. The company said revenue in the consumer electronics sales vertical are expected to be down approximately $21M from the same period last year, primarily as a result of an anticipated decline in analog content protection revenue. And CE sales in the Q2 were also impacted by fewer licensed CE device manufacturers than anticipated and a reduction in royalty-bearing unit sales reported by many device manufacturers.   ',", 
        " 'Sees Q2 revenue $158M, consensus $184.64M. The company said revenue in the consumer electronics sales vertical are expected to be down approximately $21M from the same period last year, primarily as a result of an anticipated decline in analog content protection revenue. And CE sales in the Q2 were also impacted by fewer licensed CE device manufacturers than anticipated and a reduction in royalty-bearing unit sales reported by many device manufacturers.   ',", 
        " 1668624L,", 
        " 158.0,", 
        " 184.64,", 
        " 171.32,", 
        " 21.0,", 
        " 7.15809,", 
        " 'ROVI CORP COM',", 
        " 2177.3155183]"
       ]
      }
     ], 
     "prompt_number": 54
    }, 
    {
     "cell_type": "code", 
     "collapsed": false, 
     "input": [
      "", 
      "PosEarnings2 = PosEarnings", 
      "len(PosEarnings)"
     ], 
     "language": "python", 
     "outputs": [
      {
       "output_type": "pyout", 
       "prompt_number": 4, 
       "text": [
        "48"
       ]
      }
     ], 
     "prompt_number": 4
    }, 
    {
     "cell_type": "code", 
     "collapsed": true, 
     "input": [
      "PosEarnings"
     ], 
     "language": "python", 
     "outputs": [
      {
       "output_type": "pyout", 
       "prompt_number": 13, 
       "text": [
        "[[1676193L,", 
        "  'ASGN',", 
        "  datetime.datetime(2012, 7, 26, 16, 18, 11),", 
        "  ' On Assignment sees Q3 EPS 28c-31c, consensus 27c',", 
        "  'Sees Q3 revenue $382M-$388M, consensus $394.3M.',", 
        "  1676193L,", 
        "  0.28,", 
        "  0.31,", 
        "  0.295,", 
        "  0.27,", 
        "  0.092593,", 
        "  'ON ASSIGNMENT INC COM',", 
        "  600.4450452],", 
        " [1686947L,", 
        "  'AIT',", 
        "  datetime.datetime(2012, 8, 9, 9, 20, 24),", 
        "  ' Applied Industrial sees FY13 EPS $2.90-$3.05, consensus $2.80',", 
        "  'Sees FY13 revenue growth of 9%-13%, including the SKF Distribution acquisition, consensus $2.55B. ',", 
        "  1686947L,", 
        "  2.9,", 
        "  3.05,", 
        "  2.975,", 
        "  2.8,", 
        "  0.0625,", 
        "  'APPLIED INDL TECHNOLOGIES INC COM',", 
        "  1554.96201823],", 
        " [1678000L,", 
        "  'CRUS',", 
        "  datetime.datetime(2012, 7, 30, 16, 11, 5),", 
        "  ' Cirrus Logic sees Q2 revenue $170M-$190M, consensus $129.65M',", 
        "  'September quarter revenue guided up more than 70% sequentially.',", 
        "  1678000L,", 
        "  170.0,", 
        "  190.0,", 
        "  180.0,", 
        "  129.65,", 
        "  0.388353,", 
        "  'CIRRUS LOGIC INC COM',", 
        "  1924.70503219],", 
        " [1686587L,", 
        "  'RDEN',", 
        "  datetime.datetime(2012, 8, 9, 7, 7, 35),", 
        "  ' Elizabeth Arden sees FY13 EPS $2.55-$2.70, consensus $2.37',", 
        "  'Sees FY13 net sales u p 13.5%-15.0%.  Consensus: $1.30B',", 
        "  1686587L,", 
        "  2.55,", 
        "  2.7,", 
        "  2.625,", 
        "  2.37,", 
        "  0.107595,", 
        "  'ELIZABETH ARDEN INC COM',", 
        "  1139.88922746],", 
        " [1686579L,", 
        "  'RDEN',", 
        "  datetime.datetime(2012, 8, 9, 7, 6, 24),", 
        "  ' Elizabeth Arden sees Q1 EPS 38c-43c, consensus 37c',", 
        "  'Sees Q1 revenue $330M-$340M, consensus $317.93M',", 
        "  1686579L,", 
        "  0.38,", 
        "  0.43,", 
        "  0.405,", 
        "  0.37,", 
        "  0.094595,", 
        "  'ELIZABETH ARDEN INC COM',", 
        "  1139.88922746],", 
        " [1679740L,", 
        "  'FRED',", 
        "  datetime.datetime(2012, 8, 1, 7, 48, 44),", 
        "  \" Fred's  sees Q2 EPS 17c-19c, consensus 15c\",", 
        "  'Q2 earnings will be affected by the ongoing shift in sales mix toward consumables, along with added costs associated with July sales promotions and one-time store closing costs during the quarter. Offsetting these pressures, the Company completed negotiations with the State of Tennessee for the settlement of a tax matter, which will benefit Q2 earnings. ',", 
        "  1679740L,", 
        "  0.17,", 
        "  0.19,", 
        "  0.18,", 
        "  0.15,", 
        "  0.2,", 
        "  'FREDS INC CL A',", 
        "  559.800538],", 
        " [1678408L,", 
        "  'KLIC',", 
        "  datetime.datetime(2012, 7, 31, 6, 56, 9),", 
        "  ' Kulicke & Soffa sees Q4 revenue $250M-$270M, consensus $190.43M',", 
        "  ' Kulicke & Soffa sees Q4 revenue $250M-$270M, consensus $190.43M',", 
        "  1678408L,", 
        "  250.0,", 
        "  270.0,", 
        "  260.0,", 
        "  190.43,", 
        "  0.365331,", 
        "  'KULICKE & SOFFA INDS INC COM',", 
        "  660.44396597],", 
        " [1673917L,", 
        "  'LAD',", 
        "  datetime.datetime(2012, 7, 25, 7, 41, 11),", 
        "  ' Lithia Motors sees Q3 EPS 74c-76c, consensus 70c',", 
        "  ' Lithia Motors sees Q3 EPS 74c-76c, consensus 70c',", 
        "  1673917L,", 
        "  0.74,", 
        "  0.76,", 
        "  0.75,", 
        "  0.7,", 
        "  0.071429,", 
        "  'LITHIA MTRS INC CL A',", 
        "  517.61537102],", 
        " [1676327L,", 
        "  'PWER',", 
        "  datetime.datetime(2012, 7, 26, 16, 39, 27),", 
        "  ' Power-One sees Q3 revenue $260M-$280M, consensus $238.90M',", 
        "  ' Power-One sees Q3 revenue $260M-$280M, consensus $238.90M',", 
        "  1676327L,", 
        "  260.0,", 
        "  280.0,", 
        "  270.0,", 
        "  238.9,", 
        "  0.13018,", 
        "  'POWER ONE INC NEW COM',", 
        "  551.27750241],", 
        " [1674885L,", 
        "  'TEX',", 
        "  datetime.datetime(2012, 7, 25, 19, 2, 47),", 
        "  ' Terex sees FY12 EPS $1.95-$2.05, consensus $1.76',", 
        "  'Sees FY12 revenue $7.5B-$7.8B, consensus $7.93B.',", 
        "  1674885L,", 
        "  1.95,", 
        "  2.05,", 
        "  2.0,", 
        "  1.76,", 
        "  0.136364,", 
        "  'TEREX CORP NEW COM',", 
        "  1968.4316346],", 
        " [1682140L,", 
        "  'THO',", 
        "  datetime.datetime(2012, 8, 2, 16, 39, 42),", 
        "  ' Thor Industries sees Q4 revenue $887.2M, consensus $822.04M',", 
        "  'Sees Q4 RV sales $769.56M, Bus Group sales $117.65M.',", 
        "  1682140L,", 
        "  887.2,", 
        "  887.2,", 
        "  887.2,", 
        "  822.04,", 
        "  0.079266,", 
        "  'THOR INDS INC COM',", 
        "  1449.93387222],", 
        " [1682203L,", 
        "  'MTZ',", 
        "  datetime.datetime(2012, 8, 2, 17, 1, 52),", 
        "  ' MasTec sees Q3 EPS 52c, consensus 49c',", 
        "  'Sees Q3 revenue $950M-$1B, consensus $904.35M.',", 
        "  1682203L,", 
        "  0.52,", 
        "  0.52,", 
        "  0.52,", 
        "  0.49,", 
        "  0.061224,", 
        "  'MASTEC INC COM',", 
        "  1213.7946272],", 
        " [1674956L,", 
        "  'OFC',", 
        "  datetime.datetime(2012, 7, 26, 6, 7, 20),", 
        "  ' Corporate Office Properties sees Q3 FFO 47c-50c, consensus 16c',", 
        "  ' Corporate Office Properties sees Q3 FFO 47c-50c, consensus 16c',", 
        "  1674956L,", 
        "  0.47,", 
        "  0.5,", 
        "  0.485,", 
        "  0.16,", 
        "  2.03125,", 
        "  'CORPORATE OFFICE PPTYS TR SH BEN INT',", 
        "  1883.7815251],", 
        " [1681985L,", 
        "  'VCLK',", 
        "  datetime.datetime(2012, 8, 2, 16, 18, 5),", 
        "  ' ValueClick sees Q3 EPS 36c-37c, consensus 26c',", 
        "  'sees Q3 revenue $164M-$169M, consensus $173.41M.',", 
        "  1681985L,", 
        "  0.36,", 
        "  0.37,", 
        "  0.365,", 
        "  0.26,", 
        "  0.403846,", 
        "  'VALUECLICK INC COM',", 
        "  1321.7233634],", 
        " [1676587L,", 
        "  'XXIA',", 
        "  datetime.datetime(2012, 7, 27, 6, 11, 33),", 
        "  ' Ixia sees Q3 EPS 18c-20c, consensus 18c',", 
        "  \"Sees Q3 revenue $103M-$107M, consensus $97.67M. Guidance issued on last night's earnings call. \",", 
        "  1676587L,", 
        "  0.18,", 
        "  0.2,", 
        "  0.19,", 
        "  0.18,", 
        "  0.055556,", 
        "  'IXIA COM',", 
        "  856.1763062],", 
        " [1673306L,", 
        "  'TPX',", 
        "  datetime.datetime(2012, 7, 24, 16, 20, 3),", 
        "  ' Tempur-Pedic sees FY12 EPS $2.80, consensus $2.66',", 
        "  'Affirms prior view for FY12 revenue $1.43B, consensus $1.43B. ',", 
        "  1673306L,", 
        "  2.8,", 
        "  2.8,", 
        "  2.8,", 
        "  2.66,", 
        "  0.052632,", 
        "  'TEMPUR PEDIC INTL INC COM',", 
        "  1485.6761962],", 
        " [1684911L,", 
        "  'KNXA',", 
        "  datetime.datetime(2012, 8, 7, 16, 21, 4),", 
        "  ' Kenexa sees 2012 EPS $1.07-$1.16, consensus $1.06',", 
        "  'Sees 2012 non-GAAP revenue $352M-$359M, consensus $360.63M.',", 
        "  1684911L,", 
        "  1.07,", 
        "  1.16,", 
        "  1.115,", 
        "  1.06,", 
        "  0.051887,", 
        "  'KENEXA CORP COM',", 
        "  793.54808616],", 
        " [1684908L,", 
        "  'KNXA',", 
        "  datetime.datetime(2012, 8, 7, 16, 20, 34),", 
        "  ' Kenexa sees Q3 EPS 29c-32c, consensus 29c',", 
        "  'Sees Q3 non-GAAP revenue $92M-$95M, consensus $93.73M.',", 
        "  1684908L,", 
        "  0.29,", 
        "  0.32,", 
        "  0.305,", 
        "  0.29,", 
        "  0.051724,", 
        "  'KENEXA CORP COM',", 
        "  793.54808616],", 
        " [1673304L,", 
        "  'IRBT',", 
        "  datetime.datetime(2012, 7, 24, 16, 19, 50),", 
        "  ' iRobot sees Q3 EPS 30-36c, consensus 34c',", 
        "  'Sees revenue $125-130M, consensus $127.83M.',", 
        "  1673304L,", 
        "  0.36,", 
        "  0.36,", 
        "  0.36,", 
        "  0.34,", 
        "  0.058824,", 
        "  'IROBOT CORP COM',", 
        "  608.34648421],", 
        " [1681464L,", 
        "  'SMBL',", 
        "  datetime.datetime(2012, 8, 2, 8, 46, 57),", 
        "  ' Smart Balance sees 2013 revenue $440M-$450M, consensus $350.49M',", 
        "  ' Smart Balance sees 2013 revenue $440M-$450M, consensus $350.49M',", 
        "  1681464L,", 
        "  440.0,", 
        "  450.0,", 
        "  445.0,", 
        "  350.49,", 
        "  0.269651,", 
        "  'SMART BALANCE INC COM',", 
        "  553.45172914],", 
        " [1678672L,", 
        "  'LQDT',", 
        "  datetime.datetime(2012, 7, 31, 8, 37, 56),", 
        "  ' Liquidity Services sees Q4 EPS 35c-38c, consensus 33c',", 
        "  ' Liquidity Services sees Q4 EPS 35c-38c, consensus 33c',", 
        "  1678672L,", 
        "  0.35,", 
        "  0.38,", 
        "  0.365,", 
        "  0.33,", 
        "  0.106061,", 
        "  'LIQUIDITY SERVICES INC COM',", 
        "  1597.28766114],", 
        " [1678669L,", 
        "  'LQDT',", 
        "  datetime.datetime(2012, 7, 31, 8, 37, 11),", 
        "  ' Liquidity Services sees FY12 EPS $1.81-$1.84, consensus $1.68',", 
        "  'Increases FY12 GMV $850M-$860M, which is an increase from previous guidance range of $760M-$800M, primarily as a result of the GoIndustry acquisition and organic growth. Expect GMV for Q4-12 to range from $230M-$240M. Expect Adjusted EBITDA $108M-$110M, which is an increase from previous guidance of $96M-$100M. Expects Adjusted EBITDA for Q4-12 to range from $21.0M-$23.0M. ',", 
        "  1678669L,", 
        "  1.81,", 
        "  1.84,", 
        "  1.825,", 
        "  1.68,", 
        "  0.08631,", 
        "  'LIQUIDITY SERVICES INC COM',", 
        "  1597.28766114],", 
        " [1674627L,", 
        "  'SFLY',", 
        "  datetime.datetime(2012, 7, 25, 16, 15, 46),", 
        "  ' Shutterfly sees FY12 EPS 11c-21c, consensus 14c',", 
        "  'Sees FY12 revenue $582M-$592M, consensus $583.3M.',", 
        "  1674627L,", 
        "  0.11,", 
        "  0.21,", 
        "  0.16,", 
        "  0.14,", 
        "  0.142857,", 
        "  'SHUTTERFLY INC COM',", 
        "  1097.55898215],", 
        " [1687458L,", 
        "  'HMIN',", 
        "  datetime.datetime(2012, 8, 9, 18, 6),", 
        "  ' Home Inns sees Q3 revenue $243.2M-$248M, consensus $228.55M',", 
        "  ' Home Inns sees Q3 revenue $243.2M-$248M, consensus $228.55M',", 
        "  1687458L,", 
        "  243.2,", 
        "  248.0,", 
        "  245.6,", 
        "  228.55,", 
        "  0.074601,", 
        "  'HOME INNS & HOTELS MGMT INC SPON ADR',", 
        "  1028.21127667],", 
        " [1683715L,", 
        "  'LOPE',", 
        "  datetime.datetime(2012, 8, 6, 16, 25, 40),", 
        "  ' Grand Canyon sees Q3 EPS 33c-35c, consensus 31c',", 
        "  'Sees Q3 revenue $124.5M-$126.5M, consensus $122.1M.',", 
        "  1683715L,", 
        "  0.33,", 
        "  0.35,", 
        "  0.34,", 
        "  0.31,", 
        "  0.096774,", 
        "  'GRAND CANYON ED INC COM',", 
        "  931.62006612],", 
        " [1683720L,", 
        "  'LOPE',", 
        "  datetime.datetime(2012, 8, 6, 16, 27, 1),", 
        "  ' Grand Canyon sees FY12 EPS $1.36-$1.41, consensus $1.28',", 
        "  'Sees FY12 revenue $488M-$493M, consensus $483.15M. Sees Q4 EPS 36c-39c, Q4 revenue $127M-$130M. ',", 
        "  1683720L,", 
        "  1.36,", 
        "  1.41,", 
        "  1.385,", 
        "  1.28,", 
        "  0.082031,", 
        "  'GRAND CANYON ED INC COM',", 
        "  931.62006612],", 
        " [1679318L,", 
        "  'SEM',", 
        "  datetime.datetime(2012, 7, 31, 17, 4, 50),", 
        "  ' Select Medical sees Q2 EPS 31c, consensus 24c',", 
        "  'Sees Q2 revenue $750M, consensus $729.64M.',", 
        "  1679318L,", 
        "  0.31,", 
        "  0.31,", 
        "  0.31,", 
        "  0.24,", 
        "  0.291667,", 
        "  'SELECT MED HLDGS CORP COM',", 
        "  1426.0830348],", 
        " [1685123L,", 
        "  'SEM',", 
        "  datetime.datetime(2012, 8, 7, 17, 24, 50),", 
        "  ' Select Medical sees FY12 EPS  $1.01 to $1.06, consensus 94c',", 
        "  'Sees revenue of $2.9B-$2.975B, consensus $2.94B.',", 
        "  1685123L,", 
        "  1.01,", 
        "  1.06,", 
        "  1.035,", 
        "  0.94,", 
        "  0.101064,", 
        "  'SELECT MED HLDGS CORP COM',", 
        "  1426.0830348],", 
        " [1683754L,", 
        "  'BSFT',", 
        "  datetime.datetime(2012, 8, 6, 16, 38, 14),", 
        "  ' BroadSoft sees FY12 EPS  $1.30 to $1.40, consensus $1.25',", 
        "  'Sees revenue $162M-$167M, consensus $161.02M. ',", 
        "  1683754L,", 
        "  1.3,", 
        "  1.4,", 
        "  1.35,", 
        "  1.25,", 
        "  0.08,", 
        "  'BROADSOFT INC COM',", 
        "  797.31389388]]"
       ]
      }
     ], 
     "prompt_number": 13
    }, 
    {
     "cell_type": "code", 
     "collapsed": false, 
     "input": [
      "print \"Ticker, Datetime, Outperform, MktCap\"", 
      "for row in PosEarnings2:", 
      "    if row[1] in topRes.index:", 
      "        print row[1], row[2], row[10], row[12]"
     ], 
     "language": "python", 
     "outputs": [
      {
       "output_type": "stream", 
       "stream": "stdout", 
       "text": [
        "Ticker, Datetime, Outperform, MktCap", 
        "ASGN 2012-04-26 16:15:54 0.105263 600.4450452", 
        "BHE 2012-04-26 07:19:58 0.12 804.299247", 
        "CACI 2012-06-06 16:29:55 0.186292 1465.2004903", 
        "MCRL 2012-04-26 16:31:32 0.055556 574.84177334", 
        "MSCC 2012-04-25 16:09:57 0.104167 1642.83680975", 
        "POWI 2012-05-03 16:24:43 0.088271 1058.59529343", 
        "PZZA 2012-05-01 17:09:33 52.4746 1133.24091524", 
        "MTZ 2012-05-03 16:51:57 0.09375 1213.7946272", 
        "CMTL 2012-06-07 16:13:11 0.051095 513.29542332", 
        "UNF 2012-06-27 08:03:15 0.109785 959.5242", 
        "LF 2012-05-03 16:11:54 0.09 570.7270692", 
        "ACCO 2012-05-10 07:06:04 0.218391 1168.2486662", 
        "LQDT 2012-05-03 06:59:36 0.141026 1597.28766114", 
        "LOPE 2012-05-07 16:21:43 0.06 931.62006612"
       ]
      }
     ], 
     "prompt_number": 86
    }, 
    {
     "cell_type": "markdown", 
     "source": [
      "-Alot of these stocks have at least 3 s scores above 70 ", 
      "- Or have ARM > 90"
     ]
    }, 
    {
     "cell_type": "code", 
     "collapsed": false, 
     "input": [
      "len(PosEarnings)"
     ], 
     "language": "python", 
     "outputs": [
      {
       "output_type": "pyout", 
       "prompt_number": 11, 
       "text": [
        "29"
       ]
      }
     ], 
     "prompt_number": 11
    }, 
    {
     "cell_type": "code", 
     "collapsed": false, 
     "input": [
      "figsize(20,5)", 
      "pricesDF.ix[:, 'LQDT'].plot()"
     ], 
     "language": "python", 
     "outputs": [
      {
       "output_type": "pyout", 
       "prompt_number": 67, 
       "text": [
        "<matplotlib.axes.AxesSubplot at 0x154ea850>"
       ]
      }, 
      {
       "output_type": "display_data", 
       "png": "[encoded data removed]"
      }
     ], 
     "prompt_number": 67
    }, 
    {
     "cell_type": "markdown", 
     "source": [
      "#Need to find stocks that trade during earnings releases"
     ]
    }, 
    {
     "cell_type": "code", 
     "collapsed": false, 
     "input": [
      "pricesDF = pandas.DataFrame()", 
      "for j in range(len(PosEarnings2)):", 
      "    tEvent = PosEarnings2[j][2]", 
      "    ticker = PosEarnings2[j][1]", 
      "    #tStart = tEvent + datetime.timedelta(seconds=-3600)", 
      "    tStart = tEvent + datetime.timedelta(seconds=0)", 
      "    tEnd = tEvent + datetime.timedelta(hours=24)", 
      "    dataPrices = db.query(\"\"\"select ticker, timestamp(date, time), last, volume from pricing1Sec_pt2 where ticker = '%s'", 
      "                         and timestamp(date,time) >= '%s'", 
      "                         and timestamp(date,time) <= '%s';\"\"\" % (ticker, tStart.isoformat(), tEnd.isoformat()) )", 
      "    if len(dataPrices) == 0:", 
      "        continue", 
      "    #print dataPrices", 
      "    tOpening = dataPrices[0][1]", 
      "    for row in dataPrices:", 
      "        if tOpening < tEvent:", 
      "            delta = row[1] - tEvent", 
      "        else:", 
      "            delta = row[1] - tOpening", 
      "        row[1] = datetime.datetime(2012, 1, 1, 0, 0, 0) + delta", 
      "    EventOpenDiff = tOpening - tEvent", 
      "    #if EventOpenDiff < datetime.timedelta(hours=4):", 
      "    #    continue", 
      "    # ACTUALLY THIS DOES NOT IMPROVE RESULTS", 
      "    if ticker not in pricesDF:", 
      "        # Dont add to the potential trades list if news is too stale", 
      "        print \"Ticker: \", ticker, \"Start: \", tStart, \" End: \", tEnd ,\" Event: \", tEvent, \" Opening: \", tOpening, \" Diff: \", EventOpenDiff", 
      "        #print dataPrices[0], ticker", 
      "            ", 
      "        dataPrices2 = pandas.DataFrame.from_records(dataPrices, index='datetime', columns=['ticker', 'datetime', dataPrices[0][0], 'volume'])", 
      "        del dataPrices2['ticker']; del dataPrices2['volume']", 
      "        del dataPrices", 
      "        pricesDF = pricesDF.join(dataPrices2, how=\"outer\")", 
      "", 
      "pricesDF = pricesDF.pct_change()", 
      "for col in pricesDF:", 
      "    pricesDF[col][1:] += 1", 
      "    pricesDF[col][0] = 1", 
      "pricesDF = pricesDF.cumprod()", 
      "pricesDF = pricesDF.fillna(method='pad')"
     ], 
     "language": "python", 
     "outputs": [
      {
       "output_type": "stream", 
       "stream": "stdout", 
       "text": [
        "Ticker:  ASGN Start:  2012-07-26 16:18:11  End:  2012-07-27 16:18:11  Event:  2012-07-26 16:18:11  Opening:  2012-07-26 16:26:41  Diff:  0:08:30", 
        "Ticker:  BC Start:  2012-07-26 07:50:51  End:  2012-07-27 07:50:51  Event:  2012-07-26 07:50:51  Opening:  2012-07-26 09:32:29  Diff:  1:41:38", 
        "Ticker:  AIT Start:  2012-08-09 09:20:24  End:  2012-08-10 09:20:24  Event:  2012-08-09 09:20:24  Opening:  2012-08-09 09:30:01  Diff:  0:09:37", 
        "Ticker: "
       ]
      }, 
      {
       "output_type": "stream", 
       "stream": "stdout", 
       "text": [
        " CNQR Start:  2012-08-01 16:34:26  End:  2012-08-02 16:34:26  Event:  2012-08-01 16:34:26  Opening:  2012-08-01 16:34:29  Diff:  0:00:03", 
        "Ticker: "
       ]
      }, 
      {
       "output_type": "stream", 
       "stream": "stdout", 
       "text": [
        " CRUS Start:  2012-07-30 16:11:05  End:  2012-07-31 16:11:05  Event:  2012-07-30 16:11:05  Opening:  2012-07-30 16:11:05  Diff:  0:00:00", 
        "Ticker:  CVH Start:  2012-07-27 06:34:43  End:  2012-07-28 06:34:43  Event:  2012-07-27 06:34:43  Opening:  2012-07-27 09:32:33  Diff:  2:57:50", 
        "Ticker: "
       ]
      }, 
      {
       "output_type": "stream", 
       "stream": "stdout", 
       "text": [
        " EA Start:  2012-07-31 16:09:56  End:  2012-08-01 16:09:56  Event:  2012-07-31 16:09:56  Opening:  2012-07-31 16:09:58  Diff:  0:00:02", 
        "Ticker:  RDEN Start:  2012-08-09 07:07:35  End:  2012-08-10 07:07:35  Event:  2012-08-09 07:07:35  Opening:  2012-08-09 07:47:01  Diff:  0:39:26", 
        "Ticker: "
       ]
      }, 
      {
       "output_type": "stream", 
       "stream": "stdout", 
       "text": [
        " FRED Start:  2012-08-01 07:48:44  End:  2012-08-02 07:48:44  Event:  2012-08-01 07:48:44  Opening:  2012-08-01 09:30:00  Diff:  1:41:16", 
        "Ticker:  GWR Start:  2012-08-02 06:10:54  End:  2012-08-03 06:10:54  Event:  2012-08-02 06:10:54  Opening:  2012-08-02 09:30:32  Diff:  3:19:38", 
        "Ticker:  HNI Start:  2012-07-18 17:21:36  End:  2012-07-19 17:21:36  Event:  2012-07-18 17:21:36  Opening:  2012-07-19 09:30:08  Diff:  16:08:32", 
        "Ticker: "
       ]
      }, 
      {
       "output_type": "stream", 
       "stream": "stdout", 
       "text": [
        " KLIC Start:  2012-07-31 06:56:09  End:  2012-08-01 06:56:09  Event:  2012-07-31 06:56:09  Opening:  2012-07-31 07:01:56  Diff:  0:05:47", 
        "Ticker:  FWRD Start:  2012-07-19 16:14:23  End:  2012-07-20 16:14:23  Event:  2012-07-19 16:14:23  Opening:  2012-07-19 16:35:30  Diff:  0:21:07", 
        "Ticker:  LAD Start:  2012-07-25 07:41:11  End:  2012-07-26 07:41:11  Event:  2012-07-25 07:41:11  Opening:  2012-07-25 09:34:18  Diff:  1:53:07", 
        "Ticker: "
       ]
      }, 
      {
       "output_type": "stream", 
       "stream": "stdout", 
       "text": [
        " PMTC Start:  2012-07-25 18:08:17  End:  2012-07-26 18:08:17  Event:  2012-07-25 18:08:17  Opening:  2012-07-25 18:59:45  Diff:  0:51:28", 
        "Ticker:  PWER Start:  2012-07-26 16:39:27  End:  2012-07-27 16:39:27  Event:  2012-07-26 16:39:27  Opening:  2012-07-26 16:39:31  Diff:  0:00:04", 
        "Ticker: "
       ]
      }, 
      {
       "output_type": "stream", 
       "stream": "stdout", 
       "text": [
        " TEX Start:  2012-07-25 19:02:47  End:  2012-07-26 19:02:47  Event:  2012-07-25 19:02:47  Opening:  2012-07-26 09:31:26  Diff:  14:28:39", 
        "Ticker:  THO Start:  2012-08-02 16:39:42  End:  2012-08-03 16:39:42  Event:  2012-08-02 16:39:42  Opening:  2012-08-03 09:31:10  Diff:  16:51:28", 
        "Ticker:  UGI Start:  2012-08-07 07:33:56  End:  2012-08-08 07:33:56  Event:  2012-08-07 07:33:56  Opening:  2012-08-07 09:30:01  Diff:  1:56:05", 
        "Ticker: "
       ]
      }, 
      {
       "output_type": "stream", 
       "stream": "stdout", 
       "text": [
        " WHR Start:  2012-07-24 09:59:44  End:  2012-07-25 09:59:44  Event:  2012-07-24 09:59:44  Opening:  2012-07-24 09:59:48  Diff:  0:00:04", 
        "Ticker:  MTZ Start:  2012-08-02 17:01:52  End:  2012-08-03 17:01:52  Event:  2012-08-02 17:01:52  Opening:  2012-08-03 09:32:39  Diff:  16:30:47", 
        "Ticker: "
       ]
      }, 
      {
       "output_type": "stream", 
       "stream": "stdout", 
       "text": [
        " CSTR Start:  2012-07-26 16:21:32  End:  2012-07-27 16:21:32  Event:  2012-07-26 16:21:32  Opening:  2012-07-26 16:21:33  Diff:  0:00:01", 
        "Ticker:  HAE Start:  2012-08-01 18:12:19  End:  2012-08-02 18:12:19  Event:  2012-08-01 18:12:19  Opening:  2012-08-02 09:32:12  Diff:  15:19:53", 
        "Ticker:  OFC Start:  2012-07-26 06:07:20  End:  2012-07-27 06:07:20  Event:  2012-07-26 06:07:20  Opening:  2012-07-26 09:30:39  Diff:  3:23:19", 
        "Ticker: "
       ]
      }, 
      {
       "output_type": "stream", 
       "stream": "stdout", 
       "text": [
        " TNC Start:  2012-07-26 08:54:45  End:  2012-07-27 08:54:45  Event:  2012-07-26 08:54:45  Opening:  2012-07-26 09:38:12  Diff:  0:43:27", 
        "Ticker:  VCLK Start:  2012-08-02 16:18:05  End:  2012-08-03 16:18:05  Event:  2012-08-02 16:18:05  Opening:  2012-08-02 16:18:32  Diff:  0:00:27", 
        "Ticker: "
       ]
      }, 
      {
       "output_type": "stream", 
       "stream": "stdout", 
       "text": [
        " XXIA Start:  2012-07-27 06:11:33  End:  2012-07-28 06:11:33  Event:  2012-07-27 06:11:33  Opening:  2012-07-27 09:28:05  Diff:  3:16:32", 
        "Ticker: "
       ]
      }, 
      {
       "output_type": "stream", 
       "stream": "stdout", 
       "text": [
        " TPX Start:  2012-07-24 16:20:03  End:  2012-07-25 16:20:03  Event:  2012-07-24 16:20:03  Opening:  2012-07-25 09:31:33  Diff:  17:11:30", 
        "Ticker:  EXR Start:  2012-07-30 16:22:29  End:  2012-07-31 16:22:29  Event:  2012-07-30 16:22:29  Opening:  2012-07-31 09:32:11  Diff:  17:09:42", 
        "Ticker: "
       ]
      }, 
      {
       "output_type": "stream", 
       "stream": "stdout", 
       "text": [
        " KNXA Start:  2012-08-07 16:21:04  End:  2012-08-08 16:21:04  Event:  2012-08-07 16:21:04  Opening:  2012-08-08 09:33:00  Diff:  17:11:56", 
        "Ticker: "
       ]
      }, 
      {
       "output_type": "stream", 
       "stream": "stdout", 
       "text": [
        " IRBT Start:  2012-07-24 16:19:50  End:  2012-07-25 16:19:50  Event:  2012-07-24 16:19:50  Opening:  2012-07-24 16:20:16  Diff:  0:00:26", 
        "Ticker:  SMBL Start:  2012-08-02 08:46:57  End:  2012-08-03 08:46:57  Event:  2012-08-02 08:46:57  Opening:  2012-08-02 09:17:14  Diff:  0:30:17", 
        "Ticker: "
       ]
      }, 
      {
       "output_type": "stream", 
       "stream": "stdout", 
       "text": [
        " LQDT Start:  2012-07-31 08:37:56  End:  2012-08-01 08:37:56  Event:  2012-07-31 08:37:56  Opening:  2012-07-31 08:38:09  Diff:  0:00:13", 
        "Ticker: "
       ]
      }, 
      {
       "output_type": "stream", 
       "stream": "stdout", 
       "text": [
        " SFLY Start:  2012-07-25 16:15:46  End:  2012-07-26 16:15:46  Event:  2012-07-25 16:15:46  Opening:  2012-07-25 16:17:48  Diff:  0:02:02", 
        "Ticker:  HMIN Start:  2012-08-09 18:05:13  End:  2012-08-10 18:05:13  Event:  2012-08-09 18:05:13  Opening:  2012-08-10 09:28:00  Diff:  15:22:47", 
        "Ticker: "
       ]
      }, 
      {
       "output_type": "stream", 
       "stream": "stdout", 
       "text": [
        " MLNX Start:  2012-07-19 05:29:47  End:  2012-07-20 05:29:47  Event:  2012-07-19 05:29:47  Opening:  2012-07-19 05:29:50  Diff:  0:00:03", 
        "Ticker:  BIP Start:  2012-07-30 17:01:41  End:  2012-07-31 17:01:41  Event:  2012-07-30 17:01:41  Opening:  2012-07-31 09:33:57  Diff:  16:32:16", 
        "Ticker: "
       ]
      }, 
      {
       "output_type": "stream", 
       "stream": "stdout", 
       "text": [
        " LOPE Start:  2012-08-06 16:25:40  End:  2012-08-07 16:25:40  Event:  2012-08-06 16:25:40  Opening:  2012-08-06 16:25:43  Diff:  0:00:03", 
        "Ticker: "
       ]
      }, 
      {
       "output_type": "stream", 
       "stream": "stdout", 
       "text": [
        " SEM Start:  2012-07-31 17:04:50  End:  2012-08-01 17:04:50  Event:  2012-07-31 17:04:50  Opening:  2012-08-01 09:31:14  Diff:  16:26:24", 
        "Ticker: "
       ]
      }, 
      {
       "output_type": "stream", 
       "stream": "stdout", 
       "text": [
        " ACOM Start:  2012-07-25 16:28:58  End:  2012-07-26 16:28:58  Event:  2012-07-25 16:28:58  Opening:  2012-07-25 16:28:59  Diff:  0:00:01", 
        "Ticker: "
       ]
      }, 
      {
       "output_type": "stream", 
       "stream": "stdout", 
       "text": [
        " BSFT Start:  2012-08-06 16:38:14  End:  2012-08-07 16:38:14  Event:  2012-08-06 16:38:14  Opening:  2012-08-06 16:38:19  Diff:  0:00:05"
       ]
      }
     ], 
     "prompt_number": 53
    }, 
    {
     "cell_type": "code", 
     "collapsed": false, 
     "input": [
      "pricesDF.ix[-1,:]"
     ], 
     "language": "python", 
     "outputs": [
      {
       "output_type": "pyout", 
       "prompt_number": 68, 
       "text": [
        "ASGN    1.050099", 
        "BC      0.960551", 
        "AIT     1.081173", 
        "CNQR    0.953578", 
        "CRUS    1.083063", 
        "CVH     1.029927", 
        "EA      0.995157", 
        "RDEN    0.978222", 
        "FRED    1.017593", 
        "GWR     1.018893", 
        "HNI     1.018545", 
        "KLIC    1.041392", 
        "FWRD    1.052470", 
        "LAD     1.041699", 
        "PMTC    1.076843", 
        "PWER    0.856877", 
        "TEX     1.121846", 
        "THO     0.998710", 
        "UGI     0.984824", 
        "WHR     1.005236", 
        "MTZ     1.033124", 
        "CSTR    0.946382", 
        "HAE     0.991050", 
        "OFC     1.007380", 
        "TNC     1.011491", 
        "VCLK    0.982911", 
        "XXIA    1.076259", 
        "TPX     1.012974", 
        "EXR     0.955912", 
        "KNXA    0.996695", 
        "IRBT    1.178040", 
        "SMBL    1.238947", 
        "LQDT    0.997835", 
        "SFLY    0.967132", 
        "HMIN    0.987054", 
        "MLNX    1.025379", 
        "BIP     1.000602", 
        "LOPE    1.077562", 
        "SEM     1.022321", 
        "ACOM    0.995385", 
        "BSFT    1.164490", 
        "Name: 2012-01-01 23:59:49"
       ]
      }
     ], 
     "prompt_number": 68
    }, 
    {
     "cell_type": "code", 
     "collapsed": false, 
     "input": [
      "res = 1", 
      "rArray = random.sample(range(len(pricesDF.ix[1,:])), len(pricesDF.ix[1,:]))", 
      "print rArray", 
      "for m in rArray:", 
      "    res = res * pricesDF.ix[-1, m]", 
      "    print res"
     ], 
     "language": "python", 
     "outputs": [
      {
       "output_type": "stream", 
       "stream": "stdout", 
       "text": [
        "[2, 3, 4, 9, 1, 0, 7, 8, 6, 5, 10]", 
        "0.998709677419", 
        "1.03179086605", 
        "1.02255583881", 
        "1.02317090999", 
        "1.1478403501", 
        "1.16912757114", 
        "1.16526396383", 
        "1.15017795716", 
        "1.09946938153", 
        "1.11373357972", 
        "1.13859370426"
       ]
      }
     ], 
     "prompt_number": 47
    }, 
    {
     "cell_type": "code", 
     "collapsed": false, 
     "input": [
      "average(pricesDF.ix[-1, :])"
     ], 
     "language": "python", 
     "outputs": [
      {
       "output_type": "pyout", 
       "prompt_number": 69, 
       "text": [
        "1.0252591951913645"
       ]
      }
     ], 
     "prompt_number": 69
    }, 
    {
     "cell_type": "code", 
     "collapsed": false, 
     "input": [
      "median(pricesDF.ix[-1, :])"
     ], 
     "language": "python", 
     "outputs": [
      {
       "output_type": "pyout", 
       "prompt_number": 70, 
       "text": [
        "1.012973711164223"
       ]
      }
     ], 
     "prompt_number": 70
    }, 
    {
     "cell_type": "code", 
     "collapsed": false, 
     "input": [
      "peArray = np.asarray(PosEarnings2)", 
      "peArray2 = peArray[:, 1:3]", 
      "peArray2"
     ], 
     "language": "python", 
     "outputs": [
      {
       "output_type": "pyout", 
       "prompt_number": 55, 
       "text": [
        "array([[ASGN, 2012-07-26 16:18:11],", 
        "       [BC, 2012-07-26 07:50:51],", 
        "       [AIT, 2012-08-09 09:20:24],", 
        "       [CNQR, 2012-08-01 16:34:26],", 
        "       [CRUS, 2012-07-30 16:11:05],", 
        "       [CVH, 2012-07-27 06:34:43],", 
        "       [EA, 2012-07-31 16:09:56],", 
        "       [RDEN, 2012-08-09 07:07:35],", 
        "       [RDEN, 2012-08-09 07:06:24],", 
        "       [FRED, 2012-08-01 07:48:44],", 
        "       [GWR, 2012-08-02 06:10:54],", 
        "       [HNI, 2012-07-18 17:21:36],", 
        "       [HNI, 2012-07-18 17:21:10],", 
        "       [KLIC, 2012-07-31 06:56:09],", 
        "       [FWRD, 2012-07-19 16:14:23],", 
        "       [LAD, 2012-07-25 07:41:11],", 
        "       [PMTC, 2012-07-25 18:08:17],", 
        "       [PWER, 2012-07-26 16:39:27],", 
        "       [TEX, 2012-07-25 19:02:47],", 
        "       [THO, 2012-08-02 16:39:42],", 
        "       [UGI, 2012-08-07 07:33:56],", 
        "       [WHR, 2012-07-24 09:59:44],", 
        "       [MTZ, 2012-08-02 17:01:52],", 
        "       [CSTR, 2012-07-26 16:21:32],", 
        "       [HAE, 2012-08-01 18:12:19],", 
        "       [OFC, 2012-07-26 06:07:20],", 
        "       [TNC, 2012-07-26 08:54:45],", 
        "       [VCLK, 2012-08-02 16:18:05],", 
        "       [XXIA, 2012-07-27 06:11:33],", 
        "       [TPX, 2012-07-24 16:20:03],", 
        "       [EXR, 2012-07-30 16:22:29],", 
        "       [KNXA, 2012-08-07 16:21:04],", 
        "       [KNXA, 2012-08-07 16:20:34],", 
        "       [IRBT, 2012-07-24 16:19:50],", 
        "       [SMBL, 2012-08-02 08:46:57],", 
        "       [LQDT, 2012-07-31 08:37:56],", 
        "       [LQDT, 2012-07-31 08:37:11],", 
        "       [SFLY, 2012-07-25 16:15:46],", 
        "       [HMIN, 2012-08-09 18:05:13],", 
        "       [HMIN, 2012-08-09 18:06:00],", 
        "       [MLNX, 2012-07-19 05:29:47],", 
        "       [BIP, 2012-07-30 17:01:41],", 
        "       [LOPE, 2012-08-06 16:25:40],", 
        "       [LOPE, 2012-08-06 16:27:01],", 
        "       [SEM, 2012-07-31 17:04:50],", 
        "       [SEM, 2012-08-07 17:24:50],", 
        "       [ACOM, 2012-07-25 16:28:58],", 
        "       [BSFT, 2012-08-06 16:38:14]], dtype=object)"
       ]
      }
     ], 
     "prompt_number": 55
    }, 
    {
     "cell_type": "code", 
     "collapsed": false, 
     "input": [
      "std(pricesDF.ix[-1,:])"
     ], 
     "language": "python", 
     "outputs": [
      {
       "output_type": "pyout", 
       "prompt_number": 81, 
       "text": [
        "0.066333795456517894"
       ]
      }
     ], 
     "prompt_number": 81
    }, 
    {
     "cell_type": "code", 
     "collapsed": false, 
     "input": [
      "figsize(20,5)", 
      "hist(pricesDF.ix[-1,:], bins=15, log=False, normed=True)"
     ], 
     "language": "python", 
     "outputs": [
      {
       "output_type": "pyout", 
       "prompt_number": 54, 
       "text": [
        "(array([  0.95755651,   0.        ,   0.        ,   2.87266953,", 
        "         3.83022604,  10.5331216 ,   8.61800858,   3.83022604,", 
        "         4.78778255,   0.        ,   0.95755651,   0.        ,", 
        "         1.91511302,   0.        ,   0.95755651]),", 
        " array([ 0.85687732,  0.88234866,  0.90782   ,  0.93329133,  0.95876267,", 
        "        0.98423401,  1.00970534,  1.03517668,  1.06064801,  1.08611935,", 
        "        1.11159069,  1.13706202,  1.16253336,  1.1880047 ,  1.21347603,", 
        "        1.23894737]),", 
        " <a list of 15 Patch objects>)"
       ]
      }, 
      {
       "output_type": "display_data", 
       "png": "[encoded data removed]"
      }
     ], 
     "prompt_number": 54
    }, 
    {
     "cell_type": "code", 
     "collapsed": false, 
     "input": [
      "range(10,20)"
     ], 
     "language": "python", 
     "outputs": [
      {
       "output_type": "pyout", 
       "prompt_number": 318, 
       "text": [
        "[10, 11, 12, 13, 14, 15, 16, 17, 18, 19]"
       ]
      }
     ], 
     "prompt_number": 318
    }, 
    {
     "cell_type": "code", 
     "collapsed": true, 
     "input": [], 
     "language": "python", 
     "outputs": []
    }
   ]
  }
 ]
}