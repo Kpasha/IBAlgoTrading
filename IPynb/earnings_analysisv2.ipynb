{
 "metadata": {
  "name": "earnings_analysisv2"
 }, 
 "nbformat": 2, 
 "worksheets": [
  {
   "cells": [
    {
     "cell_type": "code", 
     "collapsed": true, 
     "input": [
      "import sys", 
      "sys.path.append('/home/mchan/git/Artemis/brotchie-pytrth-381894a/trth/')", 
      "sys.path.append('/home/mchan/git/Artemis/util/')", 
      "import dbutil", 
      "import re", 
      "import pandas", 
      "import pandas.io.sql", 
      "import matplotlib.pyplot as plt", 
      "import datetime", 
      "from pandas.tseries.offsets import *", 
      "import random"
     ], 
     "language": "python", 
     "outputs": [], 
     "prompt_number": 78
    }, 
    {
     "cell_type": "code", 
     "collapsed": false, 
     "input": [
      "db = dbutil.db(h='127.0.0.1', schema='mchan')", 
      "db.query(\"show tables;\")"
     ], 
     "language": "python", 
     "outputs": [
      {
       "output_type": "pyout", 
       "prompt_number": 89, 
       "text": [
        "[['consensus_quant'],", 
        " ['consensus_quant_backup'],", 
        " ['earnings'],", 
        " ['earnings_clean'],", 
        " ['earnings_clean_pt2'],", 
        " ['earnings_test'],", 
        " ['eq_daily'],", 
        " ['flyonthewall'],", 
        " ['flyonthewall2'],", 
        " ['mapping'],", 
        " ['mapping2'],", 
        " ['pricing1'],", 
        " ['pricing1Min'],", 
        " ['pricing1Sec'],", 
        " ['pricing1Sec_pt2'],", 
        " ['pricing_test'],", 
        " ['research_mapping_ds2'],", 
        " ['security_price'],", 
        " ['s_daily']]"
       ]
      }
     ], 
     "prompt_number": 89
    }, 
    {
     "cell_type": "code", 
     "collapsed": false, 
     "input": [
      "#and e.headline not like '%c)%'", 
      "PosEarnings = db.query(\"\"\"select e.*, q.*, m.name, s.market_cap_usd_mm from mchan.earnings_clean e", 
      "                          inner join mchan.consensus_quant q", 
      "                          on e.id = q.id", 
      "                          inner join mchan.mapping m", 
      "                          on m.ticker = e.ticker", 
      "                          inner join mchan.security_price s", 
      "                          on s.security_id = m.security_id", 
      "                          inner join mchan.eq_daily d", 
      "                          on m.security_id = d.security_id", 
      "                          and date(e.release_date) = d.as_of_date", 
      "                          where q.outperform > 0.05", 
      "                          and e.headline like '%see%'", 
      "                          and e.headline not like '%adjusted%'", 
      "                          and e.headline not like '%c)%'", 
      "                          and s.market_cap_usd_mm < 4000", 
      "                          and s.market_cap_usd_mm > 500", 
      "                          and d.eq_region_rank > 10;\"\"\")"
     ], 
     "language": "python", 
     "outputs": [], 
     "prompt_number": 103
    }, 
    {
     "cell_type": "code", 
     "collapsed": true, 
     "input": [
      "#and e.headline not like '%c)%'", 
      "PosEarnings = db.query(\"\"\"select e.*, q.*, m.name, s.market_cap_usd_mm from mchan.earnings_clean e", 
      "                          inner join mchan.consensus_quant q", 
      "                          on e.id = q.id", 
      "                          inner join mchan.mapping m", 
      "                          on m.ticker = e.ticker", 
      "                          inner join mchan.security_price s", 
      "                          on s.security_id = m.security_id", 
      "                          inner join mchan.eq_daily d", 
      "                          on m.security_id = d.security_id", 
      "                          and date(e.release_date) = d.as_of_date", 
      "                          where q.outperform > 0.01", 
      "                          and e.headline like '%see%';\"\"\")"
     ], 
     "language": "python", 
     "outputs": [], 
     "prompt_number": 45
    }, 
    {
     "cell_type": "code", 
     "collapsed": false, 
     "input": [
      "PosEarnings[18]"
     ], 
     "language": "python", 
     "outputs": [
      {
       "output_type": "pyout", 
       "prompt_number": 504, 
       "text": [
        "[1621069L,", 
        " 'MSCC',", 
        " datetime.datetime(2012, 4, 25, 16, 9, 57),", 
        " ' Microsemi sees Q3 EPS 51c-55c, consensus 48c',", 
        " 'Sees Q3 revenue up 3%-5% sequentially, consensus $256.62M.',", 
        " 1621069L,", 
        " 0.51,", 
        " 0.55,", 
        " 0.53,", 
        " 0.48,", 
        " 0.104167,", 
        " 'MICROSEMI CORP COM',", 
        " 1642.83680975]"
       ]
      }
     ], 
     "prompt_number": 504
    }, 
    {
     "cell_type": "code", 
     "collapsed": false, 
     "input": [
      "", 
      "PosEarnings2 = PosEarnings", 
      "len(PosEarnings)"
     ], 
     "language": "python", 
     "outputs": [
      {
       "output_type": "pyout", 
       "prompt_number": 104, 
       "text": [
        "33"
       ]
      }
     ], 
     "prompt_number": 104
    }, 
    {
     "cell_type": "code", 
     "collapsed": false, 
     "input": [
      "print \"Ticker, Datetime, Outperform, MktCap\"", 
      "for row in PosEarnings2:", 
      "    if row[1] in topRes.index:", 
      "        print row[1], row[2], row[10], row[12]"
     ], 
     "language": "python", 
     "outputs": [
      {
       "output_type": "stream", 
       "stream": "stdout", 
       "text": [
        "Ticker, Datetime, Outperform, MktCap", 
        "ASGN 2012-04-26 16:15:54 0.105263 600.4450452", 
        "BHE 2012-04-26 07:19:58 0.12 804.299247", 
        "CACI 2012-06-06 16:29:55 0.186292 1465.2004903", 
        "MCRL 2012-04-26 16:31:32 0.055556 574.84177334", 
        "MSCC 2012-04-25 16:09:57 0.104167 1642.83680975", 
        "POWI 2012-05-03 16:24:43 0.088271 1058.59529343", 
        "PZZA 2012-05-01 17:09:33 52.4746 1133.24091524", 
        "MTZ 2012-05-03 16:51:57 0.09375 1213.7946272", 
        "CMTL 2012-06-07 16:13:11 0.051095 513.29542332", 
        "UNF 2012-06-27 08:03:15 0.109785 959.5242", 
        "LF 2012-05-03 16:11:54 0.09 570.7270692", 
        "ACCO 2012-05-10 07:06:04 0.218391 1168.2486662", 
        "LQDT 2012-05-03 06:59:36 0.141026 1597.28766114", 
        "LOPE 2012-05-07 16:21:43 0.06 931.62006612"
       ]
      }
     ], 
     "prompt_number": 86
    }, 
    {
     "cell_type": "markdown", 
     "source": [
      "-Alot of these stocks have at least 3 s scores above 70 ", 
      "- Or have ARM > 90"
     ]
    }, 
    {
     "cell_type": "code", 
     "collapsed": false, 
     "input": [
      "len(PosEarnings)"
     ], 
     "language": "python", 
     "outputs": [
      {
       "output_type": "pyout", 
       "prompt_number": 234, 
       "text": [
        "1387"
       ]
      }
     ], 
     "prompt_number": 234
    }, 
    {
     "cell_type": "code", 
     "collapsed": false, 
     "input": [
      "figsize(20,5)", 
      "pricesDF.ix[:, 'AEO'].plot()"
     ], 
     "language": "python", 
     "outputs": [
      {
       "output_type": "pyout", 
       "prompt_number": 77, 
       "text": [
        "<matplotlib.axes.AxesSubplot at 0x4044a10>"
       ]
      }, 
      {
       "output_type": "display_data", 
       "png": "[encoded data removed]"
      }
     ], 
     "prompt_number": 77
    }, 
    {
     "cell_type": "markdown", 
     "source": [
      "#Need to find stocks that trade during earnings releases"
     ]
    }, 
    {
     "cell_type": "code", 
     "collapsed": false, 
     "input": [
      "pricesDF = pandas.DataFrame()", 
      "for j in range(len(PosEarnings2)):", 
      "    tEvent = PosEarnings2[j][2]", 
      "    ticker = PosEarnings2[j][1]", 
      "    #tStart = tEvent + datetime.timedelta(seconds=-3600)", 
      "    tStart = tEvent + datetime.timedelta(seconds=0)", 
      "    tEnd = tEvent + datetime.timedelta(hours=24)", 
      "    dataPrices = db.query(\"\"\"select ticker, timestamp(date, time), last, volume from pricing1Sec where ticker = '%s'", 
      "                         and timestamp(date,time) >= '%s'", 
      "                         and timestamp(date,time) <= '%s';\"\"\" % (ticker, tStart.isoformat(), tEnd.isoformat()) )", 
      "    if len(dataPrices) == 0:", 
      "        continue", 
      "    #print dataPrices", 
      "    tOpening = dataPrices[0][1]", 
      "    for row in dataPrices:", 
      "        if tOpening < tEvent:", 
      "            delta = row[1] - tEvent", 
      "        else:", 
      "            delta = row[1] - tOpening", 
      "        row[1] = datetime.datetime(2012, 1, 1, 0, 0, 0) + delta", 
      "    if ticker not in pricesDF:", 
      "        print \"Ticker: \", ticker, \"Start: \", tStart, \" End: \", tEnd ,\" Event: \", tEvent, \" Opening: \", tOpening", 
      "        #print dataPrices[0], ticker", 
      "        dataPrices2 = pandas.DataFrame.from_records(dataPrices, index='datetime', columns=['ticker', 'datetime', dataPrices[0][0], 'volume'])", 
      "        del dataPrices2['ticker']; del dataPrices2['volume']", 
      "        del dataPrices", 
      "        pricesDF = pricesDF.join(dataPrices2, how=\"outer\")", 
      "", 
      "pricesDF = pricesDF.pct_change()", 
      "for col in pricesDF:", 
      "    pricesDF[col][1:] += 1", 
      "    pricesDF[col][0] = 1", 
      "pricesDF = pricesDF.cumprod()", 
      "pricesDF = pricesDF.fillna(method='pad')"
     ], 
     "language": "python", 
     "outputs": [
      {
       "output_type": "stream", 
       "stream": "stdout", 
       "text": [
        "Ticker:  ASGN Start:  2012-04-26 16:15:54  End:  2012-04-27 16:15:54  Event:  2012-04-26 16:15:54  Opening:  2012-04-26 16:17:48", 
        "Ticker:  BHE Start:  2012-04-26 07:19:58  End:  2012-04-27 07:19:58  Event:  2012-04-26 07:19:58  Opening:  2012-04-26 09:30:01", 
        "Ticker:  BOBE Start:  2012-06-05 16:15:31  End:  2012-06-06 16:15:31  Event:  2012-06-05 16:15:31  Opening:  2012-06-05 16:20:29", 
        "Ticker:  CACI Start:  2012-06-06 16:29:55  End:  2012-06-07 16:29:55  Event:  2012-06-06 16:29:55  Opening:  2012-06-07 09:31:51", 
        "Ticker: "
       ]
      }, 
      {
       "output_type": "stream", 
       "stream": "stdout", 
       "text": [
        " GWR Start:  2012-05-01 06:03:09  End:  2012-05-02 06:03:09  Event:  2012-05-01 06:03:09  Opening:  2012-05-01 09:32:24", 
        "Ticker:  KLIC Start:  2012-05-01 07:02:22  End:  2012-05-02 07:02:22  Event:  2012-05-01 07:02:22  Opening:  2012-05-01 08:01:48", 
        "Ticker: "
       ]
      }, 
      {
       "output_type": "stream", 
       "stream": "stdout", 
       "text": [
        " MCRL Start:  2012-04-26 16:31:32  End:  2012-04-27 16:31:32  Event:  2012-04-26 16:31:32  Opening:  2012-04-26 16:31:56", 
        "Ticker:  MSCC Start:  2012-04-25 16:09:57  End:  2012-04-26 16:09:57  Event:  2012-04-25 16:09:57  Opening:  2012-04-25 16:15:24", 
        "Ticker: "
       ]
      }, 
      {
       "output_type": "stream", 
       "stream": "stdout", 
       "text": [
        " NUS Start:  2012-04-26 07:55:30  End:  2012-04-27 07:55:30  Event:  2012-04-26 07:55:30  Opening:  2012-04-26 09:30:31", 
        "Ticker:  POWI Start:  2012-05-03 16:24:43  End:  2012-05-04 16:24:43  Event:  2012-05-03 16:24:43  Opening:  2012-05-03 16:33:14", 
        "Ticker: "
       ]
      }, 
      {
       "output_type": "stream", 
       "stream": "stdout", 
       "text": [
        " PZZA Start:  2012-05-01 17:09:33  End:  2012-05-02 17:09:33  Event:  2012-05-01 17:09:33  Opening:  2012-05-01 17:14:18", 
        "Ticker:  SHAW Start:  2012-05-21 16:38:33  End:  2012-05-22 16:38:33  Event:  2012-05-21 16:38:33  Opening:  2012-05-22 09:30:01", 
        "Ticker: "
       ]
      }, 
      {
       "output_type": "stream", 
       "stream": "stdout", 
       "text": [
        " DF Start:  2012-05-09 08:05:08  End:  2012-05-10 08:05:08  Event:  2012-05-09 08:05:08  Opening:  2012-05-09 09:33:11", 
        "Ticker: "
       ]
      }, 
      {
       "output_type": "stream", 
       "stream": "stdout", 
       "text": [
        " MTZ Start:  2012-05-03 16:51:57  End:  2012-05-04 16:51:57  Event:  2012-05-03 16:51:57  Opening:  2012-05-04 09:30:01", 
        "Ticker:  CMTL Start:  2012-06-07 16:13:11  End:  2012-06-08 16:13:11  Event:  2012-06-07 16:13:11  Opening:  2012-06-07 16:13:18", 
        "Ticker:  THC Start:  2012-05-08 07:41:46  End:  2012-05-09 07:41:46  Event:  2012-05-08 07:41:46  Opening:  2012-05-08 09:30:01", 
        "Ticker: "
       ]
      }, 
      {
       "output_type": "stream", 
       "stream": "stdout", 
       "text": [
        " OFC Start:  2012-04-26 06:09:25  End:  2012-04-27 06:09:25  Event:  2012-04-26 06:09:25  Opening:  2012-04-26 09:30:11", 
        "Ticker:  TRN Start:  2012-04-25 16:10:34  End:  2012-04-26 16:10:34  Event:  2012-04-25 16:10:34  Opening:  2012-04-26 09:30:10", 
        "Ticker:  UNF Start:  2012-06-27 08:03:15  End:  2012-06-28 08:03:15  Event:  2012-06-27 08:03:15  Opening:  2012-06-27 09:31:15", 
        "Ticker: "
       ]
      }, 
      {
       "output_type": "stream", 
       "stream": "stdout", 
       "text": [
        " ARRS Start:  2012-04-25 17:33:39  End:  2012-04-26 17:33:39  Event:  2012-04-25 17:33:39  Opening:  2012-04-25 19:34:26", 
        "Ticker:  LF Start:  2012-05-03 16:11:54  End:  2012-05-04 16:11:54  Event:  2012-05-03 16:11:54  Opening:  2012-05-04 09:32:14", 
        "Ticker: "
       ]
      }, 
      {
       "output_type": "stream", 
       "stream": "stdout", 
       "text": [
        " CRI Start:  2012-04-26 06:35:33  End:  2012-04-27 06:35:33  Event:  2012-04-26 06:35:33  Opening:  2012-04-26 09:34:53", 
        "Ticker:  DRH Start:  2012-04-30 08:08:30  End:  2012-05-01 08:08:30  Event:  2012-04-30 08:08:30  Opening:  2012-04-30 09:30:01", 
        "Ticker:  HPY Start:  2012-05-01 07:38:58  End:  2012-05-02 07:38:58  Event:  2012-05-01 07:38:58  Opening:  2012-05-01 09:30:20", 
        "Ticker: "
       ]
      }, 
      {
       "output_type": "stream", 
       "stream": "stdout", 
       "text": [
        " WBMD Start:  2012-05-01 16:10:52  End:  2012-05-02 16:10:52  Event:  2012-05-01 16:10:52  Opening:  2012-05-01 16:12:54", 
        "Ticker:  ACCO Start:  2012-05-10 07:06:04  End:  2012-05-11 07:06:04  Event:  2012-05-10 07:06:04  Opening:  2012-05-10 09:31:14", 
        "Ticker: "
       ]
      }, 
      {
       "output_type": "stream", 
       "stream": "stdout", 
       "text": [
        " LQDT Start:  2012-05-03 06:59:36  End:  2012-05-04 06:59:36  Event:  2012-05-03 06:59:36  Opening:  2012-05-03 08:08:00", 
        "Ticker: "
       ]
      }, 
      {
       "output_type": "stream", 
       "stream": "stdout", 
       "text": [
        " LOPE Start:  2012-05-07 16:21:43  End:  2012-05-08 16:21:43  Event:  2012-05-07 16:21:43  Opening:  2012-05-07 16:25:06", 
        "Ticker:  SYA Start:  2012-04-25 16:29:01  End:  2012-04-26 16:29:01  Event:  2012-04-25 16:29:01  Opening:  2012-04-26 09:32:24", 
        "Ticker:  RPXC Start:  2012-05-01 16:43:02  End:  2012-05-02 16:43:02  Event:  2012-05-01 16:43:02  Opening:  2012-05-01 17:35:50"
       ]
      }
     ], 
     "prompt_number": 105
    }, 
    {
     "cell_type": "code", 
     "collapsed": false, 
     "input": [
      "pricesDF.ix[-1,:]"
     ], 
     "language": "python", 
     "outputs": [
      {
       "output_type": "pyout", 
       "prompt_number": 106, 
       "text": [
        "ASGN    1.060335", 
        "BHE     1.043279", 
        "BOBE    0.978917", 
        "CACI    1.034267", 
        "GWR     1.050397", 
        "KLIC    0.927857", 
        "MCRL    1.038594", 
        "MSCC    1.042657", 
        "NUS     0.927167", 
        "POWI    1.123848", 
        "PZZA    1.160784", 
        "SHAW    0.952072", 
        "DF      1.023138", 
        "MTZ     1.059701", 
        "CMTL    1.059181", 
        "THC     1.017964", 
        "OFC     1.012190", 
        "TRN     0.954426", 
        "UNF     1.044610", 
        "ARRS    0.903950", 
        "LF      1.050000", 
        "CRI     1.000903", 
        "DRH     0.988837", 
        "HPY     1.024244", 
        "WBMD    0.966478", 
        "ACCO    1.028770", 
        "LQDT    1.104035", 
        "LOPE    1.129152", 
        "SYA     0.987448", 
        "RPXC    0.994854", 
        "Name: 2012-01-01 23:56:34"
       ]
      }
     ], 
     "prompt_number": 106
    }, 
    {
     "cell_type": "code", 
     "collapsed": true, 
     "input": [
      "pricesDF.ix[-1, pricesDF.ix[-1,:] > 1.025]"
     ], 
     "language": "python", 
     "outputs": [
      {
       "output_type": "pyout", 
       "prompt_number": 62, 
       "text": [
        "AEO     1.077320", 
        "ASGN    1.060335", 
        "AAWW    1.088523", 
        "AVT     1.035471", 
        "BHE     1.043279", 
        "BWS     1.184267", 
        "CACI    1.034267", 
        "CNQR    1.066277", 
        "CSGS    1.094053", 
        "CAR     1.075416", 
        "DTLK    1.032155", 
        "CLGX    1.040491", 
        "JACK    1.025163", 
        "GWR     1.050397", 
        "HOT     1.043471", 
        "IDCC    1.041569", 
        "MCRL    1.038594", 
        "MSCC    1.042657", 
        "MOV     1.057530", 
        "NDSN    1.047269", 
        "HAIN    1.058762", 
        "POWI    1.123848", 
        "PSEM    1.041667", 
        "PZZA    1.160784", 
        "SNPS    1.050284", 
        "SYNC    1.093257", 
        "GEO     1.085294", 
        "Z       1.070199", 
        "ARG     1.025515", 
        "MTZ     1.059701", 
        "HILL    1.068376", 
        "ELGX    1.055354", 
        "CMTL    1.059181", 
        "GGP     1.035573", 
        "SRI     1.073563", 
        "UNF     1.044610", 
        "VSH     1.033278", 
        "VECO    1.055197", 
        "SLXP    1.050806", 
        "LF      1.050000", 
        "NILE    1.076786", 
        "SMA     1.043724", 
        "CODE    1.099638", 
        "KNXA    1.032427", 
        "VOCS    1.067857", 
        "ACCO    1.028770", 
        "LQDT    1.104035", 
        "ENOC    1.059031", 
        "RST     1.058333", 
        "LOPE    1.129152", 
        "SWI     1.071547", 
        "OPEN    1.057550", 
        "STRI    1.135198", 
        "RLOC    1.093827", 
        "BAH     1.061713", 
        "FRAN    1.095978", 
        "Name: 2012-01-01 23:59:56, Length: 56"
       ]
      }
     ], 
     "prompt_number": 62
    }, 
    {
     "cell_type": "code", 
     "collapsed": true, 
     "input": [
      "topRes = pricesDF.ix[-1, pricesDF.ix[-1,:] > 1.025]"
     ], 
     "language": "python", 
     "outputs": [], 
     "prompt_number": 63
    }, 
    {
     "cell_type": "code", 
     "collapsed": false, 
     "input": [
      "topRes.index", 
      "for i in topRes.index:", 
      "    print i"
     ], 
     "language": "python", 
     "outputs": [
      {
       "output_type": "stream", 
       "stream": "stdout", 
       "text": [
        "AEO", 
        "ASGN", 
        "AAWW", 
        "AVT", 
        "BHE", 
        "BWS", 
        "CACI", 
        "CNQR", 
        "CSGS", 
        "CAR", 
        "DTLK", 
        "CLGX", 
        "JACK", 
        "GWR", 
        "HOT", 
        "IDCC", 
        "MCRL", 
        "MSCC", 
        "MOV", 
        "NDSN", 
        "HAIN", 
        "POWI", 
        "PSEM", 
        "PZZA", 
        "SNPS", 
        "SYNC", 
        "GEO", 
        "Z", 
        "ARG", 
        "MTZ", 
        "HILL", 
        "ELGX", 
        "CMTL", 
        "GGP", 
        "SRI", 
        "UNF", 
        "VSH", 
        "VECO", 
        "SLXP", 
        "LF", 
        "NILE", 
        "SMA", 
        "CODE", 
        "KNXA", 
        "VOCS", 
        "ACCO", 
        "LQDT", 
        "ENOC", 
        "RST", 
        "LOPE", 
        "SWI", 
        "OPEN", 
        "STRI", 
        "RLOC", 
        "BAH", 
        "FRAN"
       ]
      }
     ], 
     "prompt_number": 65
    }, 
    {
     "cell_type": "code", 
     "collapsed": false, 
     "input": [
      "res = 1", 
      "rArray = random.sample(range(len(pricesDF.ix[1,:])), len(pricesDF.ix[1,:]))", 
      "print rArray", 
      "for m in rArray:", 
      "    res = res * pricesDF.ix[-1, m]", 
      "    print res"
     ], 
     "language": "python", 
     "outputs": [
      {
       "output_type": "stream", 
       "stream": "stdout", 
       "text": [
        "[22, 4, 2, 17, 13, 20, 23, 21, 5, 6, 1, 18, 9, 3, 14, 10, 8, 19, 15, 11, 12, 7, 16, 0]", 
        "0.987447698745", 
        "0.916210400478", 
        "0.896894370206", 
        "0.918638975529", 
        "0.959619719214", 
        "1.05945384088", 
        "1.05400210585", 
        "1.19012815449", 
        "1.23605948259", 
        "1.28878602469", 
        "1.34456299362", 
        "1.29949057285", 
        "1.23720868234", 
        "1.27960363092", 
        "1.15669824731", 
        "1.22575485909", 
        "1.42283701291", 
        "1.46377180792", 
        "1.53696039832", 
        "1.62791898555", 
        "1.64776301324", 
        "1.85183587188", 
        "1.83116421564", 
        "1.94164786664"
       ]
      }
     ], 
     "prompt_number": 85
    }, 
    {
     "cell_type": "code", 
     "collapsed": false, 
     "input": [
      "average(pricesDF.ix[-1, :])"
     ], 
     "language": "python", 
     "outputs": [
      {
       "output_type": "pyout", 
       "prompt_number": 107, 
       "text": [
        "1.0230018767384332"
       ]
      }
     ], 
     "prompt_number": 107
    }, 
    {
     "cell_type": "code", 
     "collapsed": false, 
     "input": [
      "median(pricesDF.ix[-1, :])"
     ], 
     "language": "python", 
     "outputs": [
      {
       "output_type": "pyout", 
       "prompt_number": 165, 
       "text": [
        "1.0000000000000007"
       ]
      }
     ], 
     "prompt_number": 165
    }, 
    {
     "cell_type": "code", 
     "collapsed": false, 
     "input": [
      "peArray = np.asarray(PosEarnings2)", 
      "peArray2 = peArray[:, 1:3]", 
      "peArray2"
     ], 
     "language": "python", 
     "outputs": [
      {
       "output_type": "pyout", 
       "prompt_number": 9, 
       "text": [
        "array([[ASGN, 2012-04-26 16:15:54],", 
        "       [BHE, 2012-04-26 07:19:58],", 
        "       [BOBE, 2012-06-05 16:15:31],", 
        "       [CACI, 2012-06-06 16:29:55],", 
        "       [KLIC, 2012-05-01 07:02:22],", 
        "       [MCRL, 2012-04-26 16:31:32],", 
        "       [MSCC, 2012-04-25 16:09:57],", 
        "       [MOV, 2012-05-23 07:34:28],", 
        "       [POWI, 2012-05-03 16:24:43],", 
        "       [PZZA, 2012-05-01 17:09:33],", 
        "       [SHAW, 2012-05-21 16:38:33],", 
        "       [AZZ, 2012-06-28 17:59:44],", 
        "       [MTZ, 2012-05-03 16:51:57],", 
        "       [CMTL, 2012-06-07 16:13:11],", 
        "       [OFC, 2012-04-26 06:09:25],", 
        "       [UNF, 2012-06-27 08:03:15],", 
        "       [ARRS, 2012-04-25 17:33:39],", 
        "       [DRH, 2012-04-30 08:08:30],", 
        "       [HPY, 2012-05-01 07:38:58],", 
        "       [WBMD, 2012-05-01 16:10:52],", 
        "       [ACCO, 2012-05-10 07:06:04],", 
        "       [LQDT, 2012-05-03 06:59:36],", 
        "       [LOPE, 2012-05-07 16:21:43],", 
        "       [SYA, 2012-04-25 16:29:01],", 
        "       [RPXC, 2012-05-01 16:43:02]], dtype=object)"
       ]
      }
     ], 
     "prompt_number": 9
    }, 
    {
     "cell_type": "code", 
     "collapsed": false, 
     "input": [
      "std(pricesDF.ix[-1,:])"
     ], 
     "language": "python", 
     "outputs": [
      {
       "output_type": "pyout", 
       "prompt_number": 95, 
       "text": [
        "0.052965552793707647"
       ]
      }
     ], 
     "prompt_number": 95
    }, 
    {
     "cell_type": "code", 
     "collapsed": false, 
     "input": [
      "hist(pricesDF.ix[-1,:], bins=10, log=False)"
     ], 
     "language": "python", 
     "outputs": [
      {
       "output_type": "pyout", 
       "prompt_number": 97, 
       "text": [
        "(array([1, 2, 3, 4, 3, 6, 9, 0, 1, 2]),", 
        " array([ 0.90395043,  0.92647054,  0.94899066,  0.97151078,  0.99403089,", 
        "        1.01655101,  1.03907112,  1.06159124,  1.08411136,  1.10663147,", 
        "        1.12915159]),", 
        " <a list of 10 Patch objects>)"
       ]
      }, 
      {
       "output_type": "display_data", 
       "png": "[encoded data removed]"
      }
     ], 
     "prompt_number": 97
    }, 
    {
     "cell_type": "code", 
     "collapsed": false, 
     "input": [
      "range(10,20)"
     ], 
     "language": "python", 
     "outputs": [
      {
       "output_type": "pyout", 
       "prompt_number": 318, 
       "text": [
        "[10, 11, 12, 13, 14, 15, 16, 17, 18, 19]"
       ]
      }
     ], 
     "prompt_number": 318
    }, 
    {
     "cell_type": "code", 
     "collapsed": true, 
     "input": [], 
     "language": "python", 
     "outputs": []
    }
   ]
  }
 ]
}