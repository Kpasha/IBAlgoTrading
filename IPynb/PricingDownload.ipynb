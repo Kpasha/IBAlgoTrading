{
 "metadata": {
  "name": "PricingDownload"
 }, 
 "nbformat": 2, 
 "worksheets": [
  {
   "cells": [
    {
     "cell_type": "code", 
     "collapsed": true, 
     "input": [
      "import yaml", 
      "import sys", 
      "sys.path.append('/home/mchan/git/Artemis/brotchie-pytrth-381894a/trth/')", 
      "sys.path.append('/home/mchan/git/Artemis/util/')", 
      "import dbutil", 
      "import multiprocessing", 
      "import logging", 
      "log = logging.getLogger(__name__)", 
      "#logging.getLogger('suds.client').setLevel(logging.CRITICAL)", 
      "import pytz, datetime", 
      "import time", 
      "", 
      "# Package from brotchie-pytrth", 
      "import api, request", 
      "", 
      "# For decoding function", 
      "from cStringIO import StringIO", 
      "from base64 import b64decode", 
      "from gzip import GzipFile"
     ], 
     "language": "python", 
     "outputs": [], 
     "prompt_number": 1
    }, 
    {
     "cell_type": "code", 
     "collapsed": false, 
     "input": [
      "run DownloadData.py"
     ], 
     "language": "python", 
     "outputs": [
      {
       "output_type": "stream", 
       "stream": "stdout", 
       "text": [
        "{u'A': A.N, u'C': C.N, u'IBM': IBM.N, u'INTC': INTC.O, u'MDRX': MDRX.O, u'ZNGA': ZNGA.O, u'FB': FB.O, u'CCI': CCI.N, u'NVDA': NVDA.O}"
       ]
      }
     ], 
     "prompt_number": 66
    }, 
    {
     "cell_type": "code", 
     "collapsed": false, 
     "input": [
      "ricResult"
     ], 
     "language": "python", 
     "outputs": [
      {
       "output_type": "pyout", 
       "prompt_number": 67, 
       "text": [
        "{u'A': A.N,", 
        " u'C': C.N,", 
        " u'CCI': CCI.N,", 
        " u'FB': FB.O,", 
        " u'IBM': IBM.N,", 
        " u'INTC': INTC.O,", 
        " u'MDRX': MDRX.O,", 
        " u'NVDA': NVDA.O,", 
        " u'ZNGA': ZNGA.O}"
       ]
      }
     ], 
     "prompt_number": 67
    }, 
    {
     "cell_type": "code", 
     "collapsed": false, 
     "input": [
      "ricResult['A']"
     ], 
     "language": "python", 
     "outputs": [
      {
       "output_type": "pyout", 
       "prompt_number": 68, 
       "text": [
        "A.N"
       ]
      }
     ], 
     "prompt_number": 68
    }, 
    {
     "cell_type": "code", 
     "collapsed": false, 
     "input": [
      "ricList"
     ], 
     "language": "python", 
     "outputs": [
      {
       "output_type": "pyout", 
       "prompt_number": 49, 
       "text": [
        "[AMZN.O, QQQ.O, LSI.N, B.N, BA.N]"
       ]
      }
     ], 
     "prompt_number": 49
    }, 
    {
     "cell_type": "code", 
     "collapsed": false, 
     "input": [
      "ricList[0].split('.')[0]"
     ], 
     "language": "python", 
     "outputs": [
      {
       "output_type": "pyout", 
       "prompt_number": 53, 
       "text": [
        "u'AMZN'"
       ]
      }
     ], 
     "prompt_number": 53
    }, 
    {
     "cell_type": "code", 
     "collapsed": false, 
     "input": [
      "'xxx' in ricDict"
     ], 
     "language": "python", 
     "outputs": [
      {
       "output_type": "pyout", 
       "prompt_number": 59, 
       "text": [
        "False"
       ]
      }
     ], 
     "prompt_number": 59
    }, 
    {
     "cell_type": "code", 
     "collapsed": true, 
     "input": [
      "ricDict = dict()"
     ], 
     "language": "python", 
     "outputs": [], 
     "prompt_number": 54
    }, 
    {
     "cell_type": "code", 
     "collapsed": true, 
     "input": [
      "ricDict['AMZN'] = 'AMZN.O'"
     ], 
     "language": "python", 
     "outputs": [], 
     "prompt_number": 55
    }, 
    {
     "cell_type": "code", 
     "collapsed": false, 
     "input": [
      "ricDict['AMZN']"
     ], 
     "language": "python", 
     "outputs": [
      {
       "output_type": "pyout", 
       "prompt_number": 57, 
       "text": [
        "'AMZN.O'"
       ]
      }
     ], 
     "prompt_number": 57
    }, 
    {
     "cell_type": "code", 
     "collapsed": true, 
     "input": [
      "ricList."
     ], 
     "language": "python", 
     "outputs": []
    }, 
    {
     "cell_type": "code", 
     "collapsed": false, 
     "input": [
      "dm = DownloadManager(trth)", 
      "print dm.Tic2Ric('CCI')"
     ], 
     "language": "python", 
     "outputs": [
      {
       "output_type": "stream", 
       "stream": "stdout", 
       "text": [
        "CCI.N"
       ]
      }
     ], 
     "prompt_number": 5
    }, 
    {
     "cell_type": "code", 
     "collapsed": true, 
     "input": [
      "tickerList = ['CCI.N', 'IBM.N', 'STZ.N', 'CELL.N', 'TXCC.N']", 
      "arrayInst = dm.api.ArrayOfInstrument(instrument=[dm.api.Instrument(code=ticker) for ticker in tickerList])", 
      "res = self.api.VerifyRICs(daterange, arrayinst, False)"
     ], 
     "language": "python", 
     "outputs": [
      {
       "output_type": "pyout", 
       "prompt_number": 25, 
       "text": [
        "(ArrayOfInstrument){", 
        "   instrument[] = ", 
        "      (Instrument){", 
        "         code = \"CCI.N\"", 
        "         isin = ", 
        "            (ArrayOfString){", 
        "               string[] = <empty>", 
        "            }", 
        "         cusip = ", 
        "            (ArrayOfString){", 
        "               string[] = <empty>", 
        "            }", 
        "         sedol = ", 
        "            (ArrayOfString){", 
        "               string[] = <empty>", 
        "            }", 
        "         gics = ", 
        "            (ArrayOfInt){", 
        "               int[] = <empty>", 
        "            }", 
        "         dateRange = ", 
        "            (DateRange){", 
        "               start = None", 
        "               end = None", 
        "            }", 
        "         name = ", 
        "            (ArrayOfString){", 
        "               string[] = <empty>", 
        "            }", 
        "         status = None", 
        "         statusInfo = None", 
        "         exchange = ", 
        "            (ArrayOfString){", 
        "               string[] = <empty>", 
        "            }", 
        "         type = ", 
        "            (ArrayOfString){", 
        "               string[] = <empty>", 
        "            }", 
        "         expiryDate = ", 
        "            (ArrayOfDate){", 
        "               dt[] = <empty>", 
        "            }", 
        "         strikePrice = ", 
        "            (ArrayOfString){", 
        "               string[] = <empty>", 
        "            }", 
        "         maturityDate = ", 
        "            (ArrayOfDate){", 
        "               dt[] = <empty>", 
        "            }", 
        "         couponRate = ", 
        "            (ArrayOfString){", 
        "               string[] = <empty>", 
        "            }", 
        "         bondType = ", 
        "            (ArrayOfString){", 
        "               string[] = <empty>", 
        "            }", 
        "         creditRating = ", 
        "            (ArrayOfString){", 
        "               string[] = <empty>", 
        "            }", 
        "         currency = ", 
        "            (ArrayOfString){", 
        "               string[] = <empty>", 
        "            }", 
        "         optionType = ", 
        "            (ArrayOfString){", 
        "               string[] = <empty>", 
        "            }", 
        "         peCode = ", 
        "            (ArrayOfString){", 
        "               string[] = <empty>", 
        "            }", 
        "         underlyingRIC = ", 
        "            (ArrayOfString){", 
        "               string[] = <empty>", 
        "            }", 
        "      },", 
        "      (Instrument){", 
        "         code = \"IBM.N\"", 
        "         isin = ", 
        "            (ArrayOfString){", 
        "               string[] = <empty>", 
        "            }", 
        "         cusip = ", 
        "            (ArrayOfString){", 
        "               string[] = <empty>", 
        "            }", 
        "         sedol = ", 
        "            (ArrayOfString){", 
        "               string[] = <empty>", 
        "            }", 
        "         gics = ", 
        "            (ArrayOfInt){", 
        "               int[] = <empty>", 
        "            }", 
        "         dateRange = ", 
        "            (DateRange){", 
        "               start = None", 
        "               end = None", 
        "            }", 
        "         name = ", 
        "            (ArrayOfString){", 
        "               string[] = <empty>", 
        "            }", 
        "         status = None", 
        "         statusInfo = None", 
        "         exchange = ", 
        "            (ArrayOfString){", 
        "               string[] = <empty>", 
        "            }", 
        "         type = ", 
        "            (ArrayOfString){", 
        "               string[] = <empty>", 
        "            }", 
        "         expiryDate = ", 
        "            (ArrayOfDate){", 
        "               dt[] = <empty>", 
        "            }", 
        "         strikePrice = ", 
        "            (ArrayOfString){", 
        "               string[] = <empty>", 
        "            }", 
        "         maturityDate = ", 
        "            (ArrayOfDate){", 
        "               dt[] = <empty>", 
        "            }", 
        "         couponRate = ", 
        "            (ArrayOfString){", 
        "               string[] = <empty>", 
        "            }", 
        "         bondType = ", 
        "            (ArrayOfString){", 
        "               string[] = <empty>", 
        "            }", 
        "         creditRating = ", 
        "            (ArrayOfString){", 
        "               string[] = <empty>", 
        "            }", 
        "         currency = ", 
        "            (ArrayOfString){", 
        "               string[] = <empty>", 
        "            }", 
        "         optionType = ", 
        "            (ArrayOfString){", 
        "               string[] = <empty>", 
        "            }", 
        "         peCode = ", 
        "            (ArrayOfString){", 
        "               string[] = <empty>", 
        "            }", 
        "         underlyingRIC = ", 
        "            (ArrayOfString){", 
        "               string[] = <empty>", 
        "            }", 
        "      },", 
        "      (Instrument){", 
        "         code = \"STZ.N\"", 
        "         isin = ", 
        "            (ArrayOfString){", 
        "               string[] = <empty>", 
        "            }", 
        "         cusip = ", 
        "            (ArrayOfString){", 
        "               string[] = <empty>", 
        "            }", 
        "         sedol = ", 
        "            (ArrayOfString){", 
        "               string[] = <empty>", 
        "            }", 
        "         gics = ", 
        "            (ArrayOfInt){", 
        "               int[] = <empty>", 
        "            }", 
        "         dateRange = ", 
        "            (DateRange){", 
        "               start = None", 
        "               end = None", 
        "            }", 
        "         name = ", 
        "            (ArrayOfString){", 
        "               string[] = <empty>", 
        "            }", 
        "         status = None", 
        "         statusInfo = None", 
        "         exchange = ", 
        "            (ArrayOfString){", 
        "               string[] = <empty>", 
        "            }", 
        "         type = ", 
        "            (ArrayOfString){", 
        "               string[] = <empty>", 
        "            }", 
        "         expiryDate = ", 
        "            (ArrayOfDate){", 
        "               dt[] = <empty>", 
        "            }", 
        "         strikePrice = ", 
        "            (ArrayOfString){", 
        "               string[] = <empty>", 
        "            }", 
        "         maturityDate = ", 
        "            (ArrayOfDate){", 
        "               dt[] = <empty>", 
        "            }", 
        "         couponRate = ", 
        "            (ArrayOfString){", 
        "               string[] = <empty>", 
        "            }", 
        "         bondType = ", 
        "            (ArrayOfString){", 
        "               string[] = <empty>", 
        "            }", 
        "         creditRating = ", 
        "            (ArrayOfString){", 
        "               string[] = <empty>", 
        "            }", 
        "         currency = ", 
        "            (ArrayOfString){", 
        "               string[] = <empty>", 
        "            }", 
        "         optionType = ", 
        "            (ArrayOfString){", 
        "               string[] = <empty>", 
        "            }", 
        "         peCode = ", 
        "            (ArrayOfString){", 
        "               string[] = <empty>", 
        "            }", 
        "         underlyingRIC = ", 
        "            (ArrayOfString){", 
        "               string[] = <empty>", 
        "            }", 
        "      },", 
        "      (Instrument){", 
        "         code = \"CELL.N\"", 
        "         isin = ", 
        "            (ArrayOfString){", 
        "               string[] = <empty>", 
        "            }", 
        "         cusip = ", 
        "            (ArrayOfString){", 
        "               string[] = <empty>", 
        "            }", 
        "         sedol = ", 
        "            (ArrayOfString){", 
        "               string[] = <empty>", 
        "            }", 
        "         gics = ", 
        "            (ArrayOfInt){", 
        "               int[] = <empty>", 
        "            }", 
        "         dateRange = ", 
        "            (DateRange){", 
        "               start = None", 
        "               end = None", 
        "            }", 
        "         name = ", 
        "            (ArrayOfString){", 
        "               string[] = <empty>", 
        "            }", 
        "         status = None", 
        "         statusInfo = None", 
        "         exchange = ", 
        "            (ArrayOfString){", 
        "               string[] = <empty>", 
        "            }", 
        "         type = ", 
        "            (ArrayOfString){", 
        "               string[] = <empty>", 
        "            }", 
        "         expiryDate = ", 
        "            (ArrayOfDate){", 
        "               dt[] = <empty>", 
        "            }", 
        "         strikePrice = ", 
        "            (ArrayOfString){", 
        "               string[] = <empty>", 
        "            }", 
        "         maturityDate = ", 
        "            (ArrayOfDate){", 
        "               dt[] = <empty>", 
        "            }", 
        "         couponRate = ", 
        "            (ArrayOfString){", 
        "               string[] = <empty>", 
        "            }", 
        "         bondType = ", 
        "            (ArrayOfString){", 
        "               string[] = <empty>", 
        "            }", 
        "         creditRating = ", 
        "            (ArrayOfString){", 
        "               string[] = <empty>", 
        "            }", 
        "         currency = ", 
        "            (ArrayOfString){", 
        "               string[] = <empty>", 
        "            }", 
        "         optionType = ", 
        "            (ArrayOfString){", 
        "               string[] = <empty>", 
        "            }", 
        "         peCode = ", 
        "            (ArrayOfString){", 
        "               string[] = <empty>", 
        "            }", 
        "         underlyingRIC = ", 
        "            (ArrayOfString){", 
        "               string[] = <empty>", 
        "            }", 
        "      },", 
        "      (Instrument){", 
        "         code = \"TXCC.N\"", 
        "         isin = ", 
        "            (ArrayOfString){", 
        "               string[] = <empty>", 
        "            }", 
        "         cusip = ", 
        "            (ArrayOfString){", 
        "               string[] = <empty>", 
        "            }", 
        "         sedol = ", 
        "            (ArrayOfString){", 
        "               string[] = <empty>", 
        "            }", 
        "         gics = ", 
        "            (ArrayOfInt){", 
        "               int[] = <empty>", 
        "            }", 
        "         dateRange = ", 
        "            (DateRange){", 
        "               start = None", 
        "               end = None", 
        "            }", 
        "         name = ", 
        "            (ArrayOfString){", 
        "               string[] = <empty>", 
        "            }", 
        "         status = None", 
        "         statusInfo = None", 
        "         exchange = ", 
        "            (ArrayOfString){", 
        "               string[] = <empty>", 
        "            }", 
        "         type = ", 
        "            (ArrayOfString){", 
        "               string[] = <empty>", 
        "            }", 
        "         expiryDate = ", 
        "            (ArrayOfDate){", 
        "               dt[] = <empty>", 
        "            }", 
        "         strikePrice = ", 
        "            (ArrayOfString){", 
        "               string[] = <empty>", 
        "            }", 
        "         maturityDate = ", 
        "            (ArrayOfDate){", 
        "               dt[] = <empty>", 
        "            }", 
        "         couponRate = ", 
        "            (ArrayOfString){", 
        "               string[] = <empty>", 
        "            }", 
        "         bondType = ", 
        "            (ArrayOfString){", 
        "               string[] = <empty>", 
        "            }", 
        "         creditRating = ", 
        "            (ArrayOfString){", 
        "               string[] = <empty>", 
        "            }", 
        "         currency = ", 
        "            (ArrayOfString){", 
        "               string[] = <empty>", 
        "            }", 
        "         optionType = ", 
        "            (ArrayOfString){", 
        "               string[] = <empty>", 
        "            }", 
        "         peCode = ", 
        "            (ArrayOfString){", 
        "               string[] = <empty>", 
        "            }", 
        "         underlyingRIC = ", 
        "            (ArrayOfString){", 
        "               string[] = <empty>", 
        "            }", 
        "      },", 
        " }"
       ]
      }
     ], 
     "prompt_number": 25
    }, 
    {
     "cell_type": "code", 
     "collapsed": true, 
     "input": [
      "today = datetime.date.today().isoformat()", 
      "tm1week = datetime.date.today() + datetime.timedelta(days=-7)", 
      "daterange = trth.DateRange(start = tm1week, end = today)", 
      "tickerList = ['CCI.N', 'IBM.N', 'STZ.N', 'CELL.N', 'TXCC.N']", 
      "arrayinst = dm.api.ArrayOfInstrument(instrument=[dm.api.Instrument(code=ticker) for ticker in tickerList])", 
      "res = dm.api.VerifyRICs(daterange, arrayinst, False)"
     ], 
     "language": "python", 
     "outputs": [], 
     "prompt_number": 29
    }, 
    {
     "cell_type": "code", 
     "collapsed": false, 
     "input": [
      "for i in res.verifiedList.instrument:", 
      "    print i.code"
     ], 
     "language": "python", 
     "outputs": [
      {
       "output_type": "stream", 
       "stream": "stdout", 
       "text": [
        "CCI.N", 
        "IBM.N", 
        "STZ.N"
       ]
      }
     ], 
     "prompt_number": 40
    }, 
    {
     "cell_type": "code", 
     "collapsed": true, 
     "input": [
      "print dm.api._client"
     ], 
     "language": "python", 
     "outputs": [
      {
       "output_type": "stream", 
       "stream": "stdout", 
       "text": [
        "", 
        "Suds ( https://fedorahosted.org/suds/ )  version: 0.4 GA  build: R699-20100913", 
        "", 
        "Service ( TRTHApiService ) tns=\"http://webservice.tickhistory.thomsonreuters.com\"", 
        "   Prefixes (1)", 
        "      ns0 = \"http://types.webservice.tickhistory.thomsonreuters.com\"", 
        "   Ports (1):", 
        "      (TRTHApi)", 
        "         Methods (29):", 
        "            CancelRequest(xs:string requestID, )", 
        "            CleanUp()", 
        "            ExpandChain(ns0:Instrument instrument, ns0:DateRange dateRange, ns0:TimeRange timeRange, xs:boolean requestInGMT, )", 
        "            GetAssetDomains()", 
        "            GetBondTypes()", 
        "            GetCountries()", 
        "            GetCreditRatings()", 
        "            GetCurrencies(ns0:ArrayOfData countryList, )", 
        "            GetExchanges(ns0:ArrayOfData domainList, )", 
        "            GetFuturesDeliveryMonths()", 
        "            GetInflightStatus()", 
        "            GetInstrumentTypes(ns0:ArrayOfData domainList, )", 
        "            GetMessageTypes(ns0:ArrayOfData domainList, ns0:RequestType requestType, )", 
        "            GetOptionExpiryMonths()", 
        "            GetPage(xs:string ric, xs:date requestDate, xs:string requestTime, )", 
        "            GetQuota()", 
        "            GetRICSymbology(ns0:Instrument instrument, ns0:DateRange dateRange, )", 
        "            GetRequestResult(xs:string requestID, )", 
        "            GetRestrictedPEs()", 
        "            GetSnapshotInfo()", 
        "            GetUsedInstruments(xs:int offset, xs:int length, )", 
        "            GetVersion()", 
        "            SearchPage(xs:string query, xs:int limit, )", 
        "            SearchRICs(ns0:DateRange dateRange, ns0:ArrayOfData criteria, xs:boolean refData, )", 
        "            SetFTPDetails(xs:string hostname, xs:string user, xs:string password, xs:string path, )", 
        "            SubmitFTPRequest(ns0:LargeRequestSpec request, )", 
        "            SubmitRequest(ns0:RequestSpec request, )", 
        "            TestFTP()", 
        "            VerifyRICs(ns0:DateRange dateRange, ns0:ArrayOfInstrument instrumentList, xs:boolean refData, )", 
        "         Types (32):", 
        "            ns0:ArrayOfData", 
        "            ns0:ArrayOfDate", 
        "            ns0:ArrayOfInstrument", 
        "            ns0:ArrayOfInt", 
        "            ns0:ArrayOfMessageType", 
        "            ns0:ArrayOfPage", 
        "            ns0:ArrayOfString", 
        "            ns0:CredentialsHeader", 
        "            ns0:Data", 
        "            ns0:DataType", 
        "            ns0:DateRange", 
        "            ns0:FieldType", 
        "            ns0:InflightStatus", 
        "            ns0:Instrument", 
        "            ns0:InstrumentStatus", 
        "            ns0:LargeRequestSpec", 
        "            ns0:MessageType", 
        "            ns0:Page", 
        "            ns0:Quota", 
        "            ns0:QuotaType", 
        "            ns0:RequestDateFormat", 
        "            ns0:RequestDelivery", 
        "            ns0:RequestFileFormat", 
        "            ns0:RequestResult", 
        "            ns0:RequestSortType", 
        "            ns0:RequestSpec", 
        "            ns0:RequestStatusCode", 
        "            ns0:RequestType", 
        "            ns0:TimeRange", 
        "            ns0:UsedInstruments", 
        "            ns0:VerifyRICsResult", 
        "            ns0:Version"
       ]
      }
     ], 
     "prompt_number": 20
    }, 
    {
     "cell_type": "code", 
     "collapsed": false, 
     "input": [
      "dm.api._factory.ARRAY_MAP"
     ], 
     "language": "python", 
     "outputs": [
      {
       "output_type": "pyout", 
       "prompt_number": 22, 
       "text": [
        "{'Instrument': ('ArrayOfInstrument', 'instrument')}"
       ]
      }
     ], 
     "prompt_number": 22
    }, 
    {
     "cell_type": "code", 
     "collapsed": true, 
     "input": [
      "ftpspec = dm.api._client.factory.create('ns0:LargeRequestSpec')"
     ], 
     "language": "python", 
     "outputs": [], 
     "prompt_number": 104
    }, 
    {
     "cell_type": "code", 
     "collapsed": true, 
     "input": [
      "ftpspec"
     ], 
     "language": "python", 
     "outputs": [
      {
       "output_type": "pyout", 
       "prompt_number": 105, 
       "text": [
        "(LargeRequestSpec){", 
        "   friendlyName = None", 
        "   requestType = ", 
        "      (RequestType){", 
        "         value = None", 
        "      }", 
        "   instrumentList = ", 
        "      (ArrayOfInstrument){", 
        "         instrument[] = <empty>", 
        "      }", 
        "   dateRange = ", 
        "      (DateRange){", 
        "         start = None", 
        "         end = None", 
        "      }", 
        "   timeRange = ", 
        "      (TimeRange){", 
        "         start = None", 
        "         end = None", 
        "      }", 
        "   messageTypeList = ", 
        "      (ArrayOfMessageType){", 
        "         messageType[] = <empty>", 
        "      }", 
        "   requestInGMT = None", 
        "   displayInGMT = None", 
        "   marketDepth = None", 
        "   splitSize = None", 
        "   delivery = ", 
        "      (RequestDelivery){", 
        "         value = None", 
        "      }", 
        "   sortType = ", 
        "      (RequestSortType){", 
        "         value = None", 
        "      }", 
        "   fileFormat = ", 
        "      (RequestFileFormat){", 
        "         value = None", 
        "      }", 
        "   dateFormat = ", 
        "      (RequestDateFormat){", 
        "         value = None", 
        "      }", 
        "   disableDataPersistence = None", 
        "   includeCurrentRIC = None", 
        "   applyCorrections = None", 
        "   displayMicroseconds = None", 
        " }"
       ]
      }
     ], 
     "prompt_number": 105
    }, 
    {
     "cell_type": "code", 
     "collapsed": true, 
     "input": [
      "spec = dm.api._client.factory.create('ns0:RequestSpec')"
     ], 
     "language": "python", 
     "outputs": [], 
     "prompt_number": 106
    }, 
    {
     "cell_type": "code", 
     "collapsed": true, 
     "input": [
      "spec"
     ], 
     "language": "python", 
     "outputs": [
      {
       "output_type": "pyout", 
       "prompt_number": 107, 
       "text": [
        "(RequestSpec){", 
        "   friendlyName = None", 
        "   requestType = ", 
        "      (RequestType){", 
        "         value = None", 
        "      }", 
        "   instrument = ", 
        "      (Instrument){", 
        "         code = None", 
        "         isin = ", 
        "            (ArrayOfString){", 
        "               string[] = <empty>", 
        "            }", 
        "         cusip = ", 
        "            (ArrayOfString){", 
        "               string[] = <empty>", 
        "            }", 
        "         sedol = ", 
        "            (ArrayOfString){", 
        "               string[] = <empty>", 
        "            }", 
        "         gics = ", 
        "            (ArrayOfInt){", 
        "               int[] = <empty>", 
        "            }", 
        "         dateRange = ", 
        "            (DateRange){", 
        "               start = None", 
        "               end = None", 
        "            }", 
        "         name = ", 
        "            (ArrayOfString){", 
        "               string[] = <empty>", 
        "            }", 
        "         status = ", 
        "            (InstrumentStatus){", 
        "               value = None", 
        "            }", 
        "         statusInfo = None", 
        "         exchange = ", 
        "            (ArrayOfString){", 
        "               string[] = <empty>", 
        "            }", 
        "         type = ", 
        "            (ArrayOfString){", 
        "               string[] = <empty>", 
        "            }", 
        "         expiryDate = ", 
        "            (ArrayOfDate){", 
        "               dt[] = <empty>", 
        "            }", 
        "         strikePrice = ", 
        "            (ArrayOfString){", 
        "               string[] = <empty>", 
        "            }", 
        "         maturityDate = ", 
        "            (ArrayOfDate){", 
        "               dt[] = <empty>", 
        "            }", 
        "         couponRate = ", 
        "            (ArrayOfString){", 
        "               string[] = <empty>", 
        "            }", 
        "         bondType = ", 
        "            (ArrayOfString){", 
        "               string[] = <empty>", 
        "            }", 
        "         creditRating = ", 
        "            (ArrayOfString){", 
        "               string[] = <empty>", 
        "            }", 
        "         currency = ", 
        "            (ArrayOfString){", 
        "               string[] = <empty>", 
        "            }", 
        "         optionType = ", 
        "            (ArrayOfString){", 
        "               string[] = <empty>", 
        "            }", 
        "         peCode = ", 
        "            (ArrayOfString){", 
        "               string[] = <empty>", 
        "            }", 
        "         underlyingRIC = ", 
        "            (ArrayOfString){", 
        "               string[] = <empty>", 
        "            }", 
        "      }", 
        "   date = None", 
        "   timeRange = ", 
        "      (TimeRange){", 
        "         start = None", 
        "         end = None", 
        "      }", 
        "   messageTypeList = ", 
        "      (ArrayOfMessageType){", 
        "         messageType[] = <empty>", 
        "      }", 
        "   requestInGMT = None", 
        "   displayInGMT = None", 
        "   disableHeader = None", 
        "   marketDepth = None", 
        "   dateFormat = ", 
        "      (RequestDateFormat){", 
        "         value = None", 
        "      }", 
        "   disableDataPersistence = None", 
        "   includeCurrentRIC = None", 
        "   applyCorrections = None", 
        "   displayMicroseconds = None", 
        " }"
       ]
      }
     ], 
     "prompt_number": 107
    }, 
    {
     "cell_type": "code", 
     "collapsed": false, 
     "input": [
      "cd trth"
     ], 
     "language": "python", 
     "outputs": [
      {
       "output_type": "stream", 
       "stream": "stdout", 
       "text": [
        "/home/mchan/git/Artemis/brotchie-pytrth-381894a/trth"
       ]
      }
     ], 
     "prompt_number": 159
    }, 
    {
     "cell_type": "code", 
     "collapsed": true, 
     "input": [
      "import requestftp"
     ], 
     "language": "python", 
     "outputs": [], 
     "prompt_number": 160
    }, 
    {
     "cell_type": "code", 
     "collapsed": true, 
     "input": [
      "import api", 
      "trth = api.TRTHApi()", 
      "trth.setup()", 
      "template = requestftp.RequestTemplate('../templates/intradayFTP.yaml')", 
      "request = requestftp.RequestFTP(template, 'myFTP1', ['MSFT.O', 'AMZN.O', 'LSI.N', 'B.N', 'BA.N'], ['2012-06-01', '2012-06-07'], ('0:00', '23:59:59.999'), 'msft.csv')"
     ], 
     "language": "python", 
     "outputs": [], 
     "prompt_number": 162
    }, 
    {
     "cell_type": "code", 
     "collapsed": true, 
     "input": [
      "id1 = trth.SubmitFTPRequest(request.generateLargeRequestSpec(trth))"
     ], 
     "language": "python", 
     "outputs": [], 
     "prompt_number": 172
    }, 
    {
     "cell_type": "code", 
     "collapsed": false, 
     "input": [
      "id1"
     ], 
     "language": "python", 
     "outputs": [
      {
       "output_type": "pyout", 
       "prompt_number": 173, 
       "text": [
        "StarMineQSE@thomsonreuters.com-myFTP1-N39574595"
       ]
      }
     ], 
     "prompt_number": 173
    }, 
    {
     "cell_type": "code", 
     "collapsed": false, 
     "input": [
      "trth.GetRequestResult(id1)"
     ], 
     "language": "python", 
     "outputs": [
      {
       "output_type": "pyout", 
       "prompt_number": 175, 
       "text": [
        "(RequestResult){", 
        "   status = \"Complete\"", 
        "   data = None", 
        "   queuePosition = 0", 
        " }"
       ]
      }
     ], 
     "prompt_number": 175
    }, 
    {
     "cell_type": "code", 
     "collapsed": true, 
     "input": [
      "trth.CancelRequest(id1)"
     ], 
     "language": "python", 
     "outputs": [], 
     "prompt_number": 167
    }, 
    {
     "cell_type": "code", 
     "collapsed": true, 
     "input": [
      "trth.SetFTPDetails(\"76.77.185.0\", \"ftpuser\", \"xjusp75hte\", \"xfer\")"
     ], 
     "language": "python", 
     "outputs": [], 
     "prompt_number": 170
    }, 
    {
     "cell_type": "code", 
     "collapsed": true, 
     "input": [
      "trth.TestFTP()"
     ], 
     "language": "python", 
     "outputs": [], 
     "prompt_number": 171
    }, 
    {
     "cell_type": "code", 
     "collapsed": false, 
     "input": [
      "db = dbutil.db(h='127.0.0.1', schema='mchan')", 
      "db.query(\"show tables;\")"
     ], 
     "language": "python", 
     "outputs": [
      {
       "output_type": "pyout", 
       "prompt_number": 259, 
       "text": [
        "[['consensus_quant'],", 
        " ['earnings'],", 
        " ['earnings_clean'],", 
        " ['earnings_clean_pt2'],", 
        " ['earnings_test'],", 
        " ['eq_daily'],", 
        " ['flyonthewall'],", 
        " ['flyonthewall2'],", 
        " ['mapping'],", 
        " ['mapping2'],", 
        " ['pricing1'],", 
        " ['pricing1Min'],", 
        " ['pricing1Sec'],", 
        " ['pricing1Sec_pt2'],", 
        " ['pricing_test'],", 
        " ['research_mapping_ds2'],", 
        " ['security_price'],", 
        " ['s_daily']]"
       ]
      }
     ], 
     "prompt_number": 259
    }, 
    {
     "cell_type": "code", 
     "collapsed": true, 
     "input": [
      "tickerArray = db.query(\"\"\"SELECT DISTINCT(ticker) FROM mchan.earnings_clean_pt2 ", 
      "                          WHERE date(release_date) < '2012-08-11' ", 
      "                          AND date(release_date) > '2012-08-05'\"\"\")"
     ], 
     "language": "python", 
     "outputs": [], 
     "prompt_number": 242
    }, 
    {
     "cell_type": "code", 
     "collapsed": true, 
     "input": [
      "tickerArray0 = db.query(\"\"\"SELECT DISTINCT(ticker) FROM mchan.earnings_clean_pt2 WHERE date(release_date) < '2012-07-28' AND date(release_date) >= '2012-07-22'\"\"\")", 
      "# Check for overlaps", 
      "#tickerArray0", 
      "tickerList0 = []", 
      "for i in tickerArray0:", 
      "    tickerList.append(i[0])", 
      "for i in tickerList0:", 
      "    if i in tickerList:", 
      "        print i"
     ], 
     "language": "python", 
     "outputs": [], 
     "prompt_number": 226
    }, 
    {
     "cell_type": "code", 
     "collapsed": true, 
     "input": [
      "tickerList = []", 
      "for i in tickerArray:", 
      "    tickerList.append(i[0])"
     ], 
     "language": "python", 
     "outputs": [], 
     "prompt_number": 243
    }, 
    {
     "cell_type": "code", 
     "collapsed": false, 
     "input": [
      "len(tickerList)"
     ], 
     "language": "python", 
     "outputs": [
      {
       "output_type": "pyout", 
       "prompt_number": 244, 
       "text": [
        "162"
       ]
      }
     ], 
     "prompt_number": 244
    }, 
    {
     "cell_type": "code", 
     "collapsed": true, 
     "input": [
      "import DownloadData", 
      "reload(DownloadData)", 
      "dm = DownloadData.DownloadManager(trth)"
     ], 
     "language": "python", 
     "outputs": [], 
     "prompt_number": 213
    }, 
    {
     "cell_type": "code", 
     "collapsed": true, 
     "input": [
      "ricList = dm.Tic2Ric(tickerList)"
     ], 
     "language": "python", 
     "outputs": [], 
     "prompt_number": 245
    }, 
    {
     "cell_type": "code", 
     "collapsed": true, 
     "input": [
      "ricList"
     ], 
     "language": "python", 
     "outputs": [
      {
       "output_type": "pyout", 
       "prompt_number": 246, 
       "text": [
        "{u'AAP': 'AAP.N',", 
        " u'ACCO': 'ACCO.N',", 
        " u'AH': 'AH.N',", 
        " u'AIT': 'AIT.N',", 
        " u'AMED': 'AMED.O',", 
        " u'ANEN': 'ANEN.O',", 
        " u'APEI': 'APEI.O',", 
        " u'AQ': 'AQ.N',", 
        " u'ASYS': 'ASYS.O',", 
        " u'ATEC': 'ATEC.O',", 
        " u'AVT': 'AVT.N',", 
        " u'BEE': 'BEE.N',", 
        " u'BGG': 'BGG.N',", 
        " u'BIOL': 'BIOL.O',", 
        " u'BITA': 'BITA.N',", 
        " u'BKI': 'BKI.N',", 
        " u'BORN': 'BORN.N',", 
        " u'BR': 'BR.N',", 
        " u'BSFT': 'BSFT.O',", 
        " u'BXP': 'BXP.N',", 
        " u'CAT': 'CAT.N',", 
        " u'CBB': 'CBB.N',", 
        " u'CBOU': 'CBOU.O',", 
        " u'CCIX': 'CCIX.O',", 
        " u'CCRN': 'CCRN.O',", 
        " u'CFN': 'CFN.N',", 
        " u'CHD': 'CHD.N',", 
        " u'CLDT': 'CLDT.N',", 
        " u'CLH': 'CLH.N',", 
        " u'CREE': 'CREE.O',", 
        " u'CSC': 'CSC.N',", 
        " u'CSGS': 'CSGS.O',", 
        " u'CSII': 'CSII.O',", 
        " u'CTL': 'CTL.N',", 
        " u'CTSH': 'CTSH.O',", 
        " u'CVS': 'CVS.N',", 
        " u'CWST': 'CWST.O',", 
        " u'CXW': 'CXW.N',", 
        " u'CYOU': 'CYOU.O',", 
        " u'DF': 'DF.N',", 
        " u'DIOD': 'DIOD.O',", 
        " u'DMD': 'DMD.N',", 
        " u'DRQ': 'DRQ.N',", 
        " u'DTSI': 'DTSI.O',", 
        " u'EAT': 'EAT.N',", 
        " u'EDMC': 'EDMC.O',", 
        " u'ELON': 'ELON.O',", 
        " u'ELX': 'ELX.N',", 
        " u'EMKR': 'EMKR.O',", 
        " u'EMR': 'EMR.N',", 
        " u'ENDP': 'ENDP.O',", 
        " u'ENOC': 'ENOC.O',", 
        " u'ENPH': 'ENPH.O',", 
        " u'ENS': 'ENS.N',", 
        " u'EPOC': 'EPOC.O',", 
        " u'ESL': 'ESL.N',", 
        " u'ET': 'ET.N',", 
        " u'FLDM': 'FLDM.O',", 
        " u'FOSL': 'FOSL.O',", 
        " u'FSIN': 'FSIN.O',", 
        " u'FSYS': 'FSYS.O',", 
        " u'GEO': 'GEO.N',", 
        " u'GEOY': 'GEOY.O',", 
        " u'GHDX': 'GHDX.O',", 
        " u'GIVN': 'GIVN.O',", 
        " u'HCA': 'HCA.N',", 
        " u'HILL': 'HILL.O',", 
        " u'HIMX': 'HIMX.O',", 
        " u'HMIN': 'HMIN.O',", 
        " u'HSFT': 'HSFT.O',", 
        " u'HSH': 'HSH.N',", 
        " u'IL': 'IL.N',", 
        " u'IMPV': 'IMPV.N',", 
        " u'INVE': 'INVE.O',", 
        " u'JACK': 'JACK.O',", 
        " u'JDAS': 'JDAS.O',", 
        " u'JIVE': 'JIVE.O',", 
        " u'JOBS': 'JOBS.O',", 
        " u'JWN': 'JWN.N',", 
        " u'KAR': 'KAR.N',", 
        " u'KNXA': 'KNXA.N',", 
        " u'KSS': 'KSS.N',", 
        " u'LAMR': 'LAMR.O',", 
        " u'LIOX': 'LIOX.O',", 
        " u'LNCE': 'LNCE.O',", 
        " u'LOCM': 'LOCM.O',", 
        " u'LOPE': 'LOPE.O',", 
        " u'LTC': 'LTC.N',", 
        " u'MATR': 'MATR.O',", 
        " u'MFB': 'MFB.N',", 
        " u'MG': 'MG.N',", 
        " u'MKTG': 'MKTG.O',", 
        " u'MM': 'MM.N',", 
        " u'MOD': 'MOD.N',", 
        " u'MRC': 'MRC.N',", 
        " u'MRX': 'MRX.N',", 
        " u'NQ': 'NQ.N',", 
        " u'NRP': 'NRP.N',", 
        " u'NVDA': 'NVDA.O',", 
        " u'NVTL': 'NVTL.O',", 
        " u'NXTM': 'NXTM.O',", 
        " u'OSIS': 'OSIS.O',", 
        " u'OWW': 'OWW.N',", 
        " u'PCLN': 'PCLN.O',", 
        " u'PFPT': 'PFPT.O',", 
        " u'PHMD': 'PHMD.O',", 
        " u'PKY': 'PKY.N',", 
        " u'PLOW': 'PLOW.N',", 
        " u'PLT': 'PLT.N',", 
        " u'PODD': 'PODD.O',", 
        " u'POM': 'POM.N',", 
        " u'POWI': 'POWI.O',", 
        " u'POWL': 'POWL.O',", 
        " u'PRMW': 'PRMW.O',", 
        " u'PRXL': 'PRXL.O',", 
        " u'PSEM': 'PSEM.O',", 
        " u'PULS': 'PULS.N',", 
        " u'RDA': 'RDA.O',", 
        " u'RDEN': 'RDEN.O',", 
        " u'RENN': 'RENN.N',", 
        " u'RNDY': 'RNDY.N',", 
        " u'RRST': 'RRST.O',", 
        " u'SATC': 'SATC.O',", 
        " u'SEM': 'SEM.N',", 
        " u'SGI': 'SGI.O',", 
        " u'SIRI': 'SIRI.O',", 
        " u'SKH': 'SKH.N',", 
        " u'SLXP': 'SLXP.O',", 
        " u'SMCI': 'SMCI.O',", 
        " u'SMI': 'SMI.N',", 
        " u'SNHY': 'SNHY.O',", 
        " u'SNMX': 'SNMX.O',", 
        " u'SNTS': 'SNTS.O',", 
        " u'SOHU': 'SOHU.O',", 
        " u'SONS': 'SONS.O',", 
        " u'SPRD': 'SPRD.O',", 
        " u'SPWR': 'SPWR.O',", 
        " u'SRI': 'SRI.N',", 
        " u'SRPT': 'SRPT.O',", 
        " u'SSNC': 'SSNC.O',", 
        " u'STAN': 'STAN.O',", 
        " u'STEC': 'STEC.O',", 
        " u'STRI': 'STRI.N',", 
        " u'SVN': 'SVN.N',", 
        " u'SYKE': 'SYKE.O',", 
        " u'TNGO': 'TNGO.O',", 
        " u'TOWR': 'TOWR.N',", 
        " u'TRNX': 'TRNX.O',", 
        " u'TSN': 'TSN.N',", 
        " u'TTGT': 'TTGT.O',", 
        " u'TUMI': 'TUMI.N',", 
        " u'UBNT': 'UBNT.O',", 
        " u'UGI': 'UGI.N',", 
        " u'UNTK': 'UNTK.O',", 
        " u'VIPS': 'VIPS.N',", 
        " u'VIT': 'VIT.N',", 
        " u'VTSS': 'VTSS.O',", 
        " u'WIFI': 'WIFI.O',", 
        " u'WRC': 'WRC.N',", 
        " u'XIN': 'XIN.N',", 
        " u'YOKU': 'YOKU.N',", 
        " u'Z': 'Z.O'}"
       ]
      }
     ], 
     "prompt_number": 246
    }, 
    {
     "cell_type": "code", 
     "collapsed": false, 
     "input": [
      "len(ricList.values())"
     ], 
     "language": "python", 
     "outputs": [
      {
       "output_type": "pyout", 
       "prompt_number": 247, 
       "text": [
        "162"
       ]
      }
     ], 
     "prompt_number": 247
    }, 
    {
     "cell_type": "code", 
     "collapsed": true, 
     "input": [
      "request = requestftp.RequestFTP(template, 'myFTP1', ricList.values(), ['2012-08-06', '2012-08-13'], ('0:00', '23:59:59.999'), 'myFTP.csv')"
     ], 
     "language": "python", 
     "outputs": [], 
     "prompt_number": 248
    }, 
    {
     "cell_type": "code", 
     "collapsed": true, 
     "input": [
      "id1 = trth.SubmitFTPRequest(request.generateLargeRequestSpec(trth))"
     ], 
     "language": "python", 
     "outputs": [], 
     "prompt_number": 249
    }, 
    {
     "cell_type": "code", 
     "collapsed": false, 
     "input": [
      "trth.GetRequestResult(id1)"
     ], 
     "language": "python", 
     "outputs": [
      {
       "output_type": "pyout", 
       "prompt_number": 253, 
       "text": [
        "(RequestResult){", 
        "   status = \"Complete\"", 
        "   data = None", 
        "   queuePosition = 0", 
        " }"
       ]
      }
     ], 
     "prompt_number": 253
    }, 
    {
     "cell_type": "code", 
     "collapsed": false, 
     "input": [
      "id1"
     ], 
     "language": "python", 
     "outputs": [
      {
       "output_type": "pyout", 
       "prompt_number": 251, 
       "text": [
        "StarMineQSE@thomsonreuters.com-myFTP1-N39761145"
       ]
      }
     ], 
     "prompt_number": 251
    }, 
    {
     "cell_type": "markdown", 
     "source": [
      "#Now load the files into MySQL"
     ]
    }, 
    {
     "cell_type": "code", 
     "collapsed": true, 
     "input": [
      "f = file('/var/ftp/xfer/StarMineQSE@thomsonreuters.com-myFTP1-N39761145.csv')"
     ], 
     "language": "python", 
     "outputs": [], 
     "prompt_number": 275
    }, 
    {
     "cell_type": "code", 
     "collapsed": true, 
     "input": [
      "csvData = f.readlines()"
     ], 
     "language": "python", 
     "outputs": [], 
     "prompt_number": 276
    }, 
    {
     "cell_type": "code", 
     "collapsed": false, 
     "input": [
      "pricetable = 'pricing1Sec_pt2'", 
      "for i in range(1,len(csvData)):", 
      "    if mod(i, 100000) == 0:", 
      "        print i", 
      "    row = csvData[i]", 
      "    row = row.split(\",\")", 
      "    db.execute(\"INSERT IGNORE INTO %s VALUES ('%s', '%s', '%s', %i, %f, %i);\"\"\" % (pricetable, \\", 
      "                row[0].split(\".\")[0], row[1], row[2].split(\".\")[0], int(row[2].split(\".\")[1]), float(row[5]), int(row[6])))", 
      "", 
      "db.commit()"
     ], 
     "language": "python", 
     "outputs": [
      {
       "output_type": "stream", 
       "stream": "stdout", 
       "text": [
        "100000", 
        "200000"
       ]
      }, 
      {
       "output_type": "stream", 
       "stream": "stdout", 
       "text": [
        "", 
        "300000"
       ]
      }, 
      {
       "output_type": "stream", 
       "stream": "stdout", 
       "text": [
        "", 
        "400000"
       ]
      }, 
      {
       "output_type": "stream", 
       "stream": "stdout", 
       "text": [
        "", 
        "500000"
       ]
      }, 
      {
       "output_type": "stream", 
       "stream": "stdout", 
       "text": [
        "", 
        "600000"
       ]
      }, 
      {
       "output_type": "stream", 
       "stream": "stdout", 
       "text": [
        "", 
        "700000"
       ]
      }, 
      {
       "output_type": "stream", 
       "stream": "stdout", 
       "text": [
        "", 
        "800000"
       ]
      }, 
      {
       "output_type": "stream", 
       "stream": "stdout", 
       "text": [
        "", 
        "900000"
       ]
      }, 
      {
       "output_type": "stream", 
       "stream": "stdout", 
       "text": [
        ""
       ]
      }
     ], 
     "prompt_number": 278
    }, 
    {
     "cell_type": "code", 
     "collapsed": false, 
     "input": [
      "len(csvData)"
     ], 
     "language": "python", 
     "outputs": [
      {
       "output_type": "pyout", 
       "prompt_number": 277, 
       "text": [
        "972771"
       ]
      }
     ], 
     "prompt_number": 277
    }, 
    {
     "cell_type": "code", 
     "collapsed": false, 
     "input": [
      "mod(200000,100000)"
     ], 
     "language": "python", 
     "outputs": [
      {
       "output_type": "pyout", 
       "prompt_number": 263, 
       "text": [
        "0"
       ]
      }
     ], 
     "prompt_number": 263
    }, 
    {
     "cell_type": "markdown", 
     "source": [
      "", 
      "1 mchan   mchan   6.9M Aug 14 20:27 StarMineQSE@thomsonreuters.com-myFTP1-N39574595.csv", 
      "", 
      "", 
      "1 mchan   mchan   135M Aug 14 21:57 StarMineQSE@thomsonreuters.com-myFTP1-N39578433.csv", 
      "", 
      "", 
      "1 ftpuser ftpuser 126M Aug 16 13:10 StarMineQSE@thomsonreuters.com-myFTP1-N39636065.csv", 
      "", 
      "", 
      "1 ftpuser ftpuser 194M Aug 16 13:47 StarMineQSE@thomsonreuters.com-myFTP1-N39637209.csv", 
      "", 
      "", 
      "1 ftpuser ftpuser  57M Aug 17 08:43 StarMineQSE@thomsonreuters.com-myFTP1-N39761145.csv"
     ]
    }
   ]
  }
 ]
}